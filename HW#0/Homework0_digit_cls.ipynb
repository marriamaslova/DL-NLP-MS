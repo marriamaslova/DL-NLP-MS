{
  "cells": [
    {
      "cell_type": "markdown",
      "metadata": {
        "id": "view-in-github",
        "colab_type": "text"
      },
      "source": [
        "<a href=\"https://colab.research.google.com/github/marriamaslova/DL-NLP-MS/blob/main/HW%230/Homework0_digit_cls.ipynb\" target=\"_parent\"><img src=\"https://colab.research.google.com/assets/colab-badge.svg\" alt=\"Open In Colab\"/></a>"
      ]
    },
    {
      "cell_type": "markdown",
      "metadata": {
        "id": "P8tDK5A9OCM7"
      },
      "source": [
        "## Домашняя работа №1 Part1\n",
        "Вам предстоит:\n",
        "\n",
        "Написать персептрон с двумя слоями. Реализовать форвард и бэквард пропогейшен\n",
        "\n"
      ]
    },
    {
      "cell_type": "code",
      "execution_count": null,
      "metadata": {
        "id": "c5IbKpsMN_F1"
      },
      "outputs": [],
      "source": [
        "import numpy as np\n",
        "from sklearn.metrics import classification_report\n",
        "import torch\n",
        "from torch.utils.data import DataLoader\n",
        "from torchvision.datasets import MNIST\n",
        "from torchvision import transforms\n",
        "import matplotlib.pyplot as plt\n",
        "from tqdm import tqdm\n",
        "from sklearn.metrics import accuracy_score\n",
        "import time"
      ]
    },
    {
      "cell_type": "markdown",
      "metadata": {
        "id": "zQRYevLNN_GA"
      },
      "source": [
        "# Датасет\n",
        "Загрузим Мнист. Почему именно он? Мы будем решать задачу бинарной классификации на паре цифр: 3 и 7. Плюсы в том, что примеров для этих чисел достаточно, чтобы обучить НС, у каждого примера не так много фичей (28Х28 - размерность картинок) и, в целом, эти классы хорошо отделяются. Я б с радостью показал вам пример с текстами, но если писать НС с нуля и пытаться обучаться на текстах, не факт, что у нас хоть что то обучится :(  \n",
        "  "
      ]
    },
    {
      "cell_type": "markdown",
      "metadata": {
        "id": "EtMN4ZlSN_GC"
      },
      "source": [
        "Торч - объект, который позволяет нормализовать картинки, можно думать о нем как о предобработке (регулярках) для текстов. В целом не стоит здесь долго думать"
      ]
    },
    {
      "cell_type": "code",
      "execution_count": null,
      "metadata": {
        "id": "BMugicmkN_GE"
      },
      "outputs": [],
      "source": [
        "transform = transforms.Compose([\n",
        "    transforms.ToTensor(),\n",
        "    transforms.Normalize((0.1307,), (0.3081,))\n",
        "])"
      ]
    },
    {
      "cell_type": "markdown",
      "metadata": {
        "id": "actIVoMKN_GJ"
      },
      "source": [
        "Загружаем датасет. Возращается особенный торчовый класс, чуть ниже мы зададим его сами и научимся им полльзоваться, пока оставляем эз из.\n"
      ]
    },
    {
      "cell_type": "code",
      "execution_count": null,
      "metadata": {
        "id": "fQpJqIWrN_GK"
      },
      "outputs": [],
      "source": [
        "train_dataset = MNIST('.', train=True, download=True, transform=transform)\n",
        "test_dataset = MNIST('.', train=False, transform=transform)"
      ]
    },
    {
      "cell_type": "markdown",
      "metadata": {
        "id": "aUSUIJbUN_GQ"
      },
      "source": [
        "Выбираем два класса. Если вы достаточно хорошо знакомы с пандас, то можно понять, что никакой магии здесь нет."
      ]
    },
    {
      "cell_type": "code",
      "execution_count": null,
      "metadata": {
        "id": "vx73oHg9N_GS"
      },
      "outputs": [],
      "source": [
        "#фильтруем фичи (дата) по значению классификационных лэйблов (таргет), берем или цифру 3 или цифру 7\n",
        "train_dataset.data = train_dataset.data[(train_dataset.targets == 3) | (train_dataset.targets == 7)]\n",
        "train_dataset.targets = train_dataset.targets[(train_dataset.targets == 3) | (train_dataset.targets == 7)]\n",
        "#тоже самое для тестового набора\n",
        "test_dataset.data = test_dataset.data[(test_dataset.targets == 3) | (test_dataset.targets == 7)]\n",
        "test_dataset.targets = test_dataset.targets[(test_dataset.targets == 3) | (test_dataset.targets == 7)]\n",
        "#необходимы препроцессинг лейблов, видимо не все значения имею тип integer, а нам нужен именно этот тип функция лонг позволяет нам\n",
        "#        это сделать (self.long() is equivalent to self.to(torch.int64). See to())\n",
        "train_dataset.targets = (train_dataset.targets == 7).long()\n",
        "test_dataset.targets = (test_dataset.targets == 7).long()"
      ]
    },
    {
      "cell_type": "markdown",
      "metadata": {
        "id": "RHelnPG0N_GX"
      },
      "source": [
        "Мы неоднократно говорили, что НС обычно тренируются бачами, в торче есть удобный класс, который позволяет обернуть наши датасеты в итерируемый объект. Если не знаете что такое итерируемый объект, погуглите :) можно думать об этом как о списке с составными элементами (элемент - батч - набор примеров)"
      ]
    },
    {
      "cell_type": "code",
      "execution_count": null,
      "metadata": {
        "id": "ENLomAueN_GZ"
      },
      "outputs": [],
      "source": [
        "train_loader = DataLoader(train_dataset, batch_size=128, shuffle=True)\n",
        "test_loader = DataLoader(test_dataset, batch_size=128, shuffle=False)"
      ]
    },
    {
      "cell_type": "code",
      "execution_count": null,
      "metadata": {
        "colab": {
          "base_uri": "https://localhost:8080/",
          "height": 952
        },
        "id": "rdvq5scBXtWY",
        "outputId": "b3ea3409-955b-433a-ac9e-084b117dbcc7"
      },
      "outputs": [
        {
          "data": {
            "text/plain": [
              "tensor([[[[-0.4242, -0.4242, -0.4242,  ..., -0.4242, -0.4242, -0.4242],\n",
              "          [-0.4242, -0.4242, -0.4242,  ..., -0.4242, -0.4242, -0.4242],\n",
              "          [-0.4242, -0.4242, -0.4242,  ..., -0.4242, -0.4242, -0.4242],\n",
              "          ...,\n",
              "          [-0.4242, -0.4242, -0.4242,  ..., -0.4242, -0.4242, -0.4242],\n",
              "          [-0.4242, -0.4242, -0.4242,  ..., -0.4242, -0.4242, -0.4242],\n",
              "          [-0.4242, -0.4242, -0.4242,  ..., -0.4242, -0.4242, -0.4242]]],\n",
              "\n",
              "\n",
              "        [[[-0.4242, -0.4242, -0.4242,  ..., -0.4242, -0.4242, -0.4242],\n",
              "          [-0.4242, -0.4242, -0.4242,  ..., -0.4242, -0.4242, -0.4242],\n",
              "          [-0.4242, -0.4242, -0.4242,  ..., -0.4242, -0.4242, -0.4242],\n",
              "          ...,\n",
              "          [-0.4242, -0.4242, -0.4242,  ..., -0.4242, -0.4242, -0.4242],\n",
              "          [-0.4242, -0.4242, -0.4242,  ..., -0.4242, -0.4242, -0.4242],\n",
              "          [-0.4242, -0.4242, -0.4242,  ..., -0.4242, -0.4242, -0.4242]]],\n",
              "\n",
              "\n",
              "        [[[-0.4242, -0.4242, -0.4242,  ..., -0.4242, -0.4242, -0.4242],\n",
              "          [-0.4242, -0.4242, -0.4242,  ..., -0.4242, -0.4242, -0.4242],\n",
              "          [-0.4242, -0.4242, -0.4242,  ..., -0.4242, -0.4242, -0.4242],\n",
              "          ...,\n",
              "          [-0.4242, -0.4242, -0.4242,  ..., -0.4242, -0.4242, -0.4242],\n",
              "          [-0.4242, -0.4242, -0.4242,  ..., -0.4242, -0.4242, -0.4242],\n",
              "          [-0.4242, -0.4242, -0.4242,  ..., -0.4242, -0.4242, -0.4242]]],\n",
              "\n",
              "\n",
              "        ...,\n",
              "\n",
              "\n",
              "        [[[-0.4242, -0.4242, -0.4242,  ..., -0.4242, -0.4242, -0.4242],\n",
              "          [-0.4242, -0.4242, -0.4242,  ..., -0.4242, -0.4242, -0.4242],\n",
              "          [-0.4242, -0.4242, -0.4242,  ..., -0.4242, -0.4242, -0.4242],\n",
              "          ...,\n",
              "          [-0.4242, -0.4242, -0.4242,  ..., -0.4242, -0.4242, -0.4242],\n",
              "          [-0.4242, -0.4242, -0.4242,  ..., -0.4242, -0.4242, -0.4242],\n",
              "          [-0.4242, -0.4242, -0.4242,  ..., -0.4242, -0.4242, -0.4242]]],\n",
              "\n",
              "\n",
              "        [[[-0.4242, -0.4242, -0.4242,  ..., -0.4242, -0.4242, -0.4242],\n",
              "          [-0.4242, -0.4242, -0.4242,  ..., -0.4242, -0.4242, -0.4242],\n",
              "          [-0.4242, -0.4242, -0.4242,  ..., -0.4242, -0.4242, -0.4242],\n",
              "          ...,\n",
              "          [-0.4242, -0.4242, -0.4242,  ..., -0.4242, -0.4242, -0.4242],\n",
              "          [-0.4242, -0.4242, -0.4242,  ..., -0.4242, -0.4242, -0.4242],\n",
              "          [-0.4242, -0.4242, -0.4242,  ..., -0.4242, -0.4242, -0.4242]]],\n",
              "\n",
              "\n",
              "        [[[-0.4242, -0.4242, -0.4242,  ..., -0.4242, -0.4242, -0.4242],\n",
              "          [-0.4242, -0.4242, -0.4242,  ..., -0.4242, -0.4242, -0.4242],\n",
              "          [-0.4242, -0.4242, -0.4242,  ..., -0.4242, -0.4242, -0.4242],\n",
              "          ...,\n",
              "          [-0.4242, -0.4242, -0.4242,  ..., -0.4242, -0.4242, -0.4242],\n",
              "          [-0.4242, -0.4242, -0.4242,  ..., -0.4242, -0.4242, -0.4242],\n",
              "          [-0.4242, -0.4242, -0.4242,  ..., -0.4242, -0.4242, -0.4242]]]])"
            ]
          },
          "execution_count": 6,
          "metadata": {},
          "output_type": "execute_result"
        }
      ],
      "source": [
        "X, y = next(iter(train_loader)) #next(iter(x) - Возвращает следующий элемент итератора.\n",
        "X"
      ]
    },
    {
      "cell_type": "code",
      "execution_count": null,
      "metadata": {
        "colab": {
          "base_uri": "https://localhost:8080/",
          "height": 119
        },
        "id": "SAaI0uHWYUrb",
        "outputId": "b9a743d2-f2be-4930-dba3-e9ab123e20b5"
      },
      "outputs": [
        {
          "data": {
            "text/plain": [
              "tensor([0, 1, 0, 1, 1, 1, 1, 1, 0, 0, 1, 0, 0, 0, 0, 1, 0, 0, 0, 1, 1, 0, 0, 1,\n",
              "        0, 0, 1, 0, 0, 1, 0, 0, 1, 0, 0, 0, 1, 1, 1, 0, 0, 1, 1, 0, 0, 1, 0, 1,\n",
              "        0, 0, 1, 0, 0, 1, 1, 0, 0, 0, 0, 1, 1, 1, 0, 1, 1, 0, 1, 0, 1, 1, 1, 0,\n",
              "        1, 0, 1, 0, 0, 1, 0, 0, 1, 0, 0, 0, 1, 1, 0, 1, 0, 1, 0, 0, 1, 1, 1, 0,\n",
              "        0, 0, 0, 0, 0, 0, 1, 1, 1, 0, 0, 1, 1, 0, 1, 0, 1, 0, 1, 1, 1, 0, 0, 1,\n",
              "        0, 0, 1, 1, 0, 1, 0, 0])"
            ]
          },
          "execution_count": 7,
          "metadata": {},
          "output_type": "execute_result"
        }
      ],
      "source": [
        "y"
      ]
    },
    {
      "cell_type": "markdown",
      "metadata": {
        "id": "KPw6jv5hYXhV"
      },
      "source": [
        "Никакой магии, просто многомерные матрицы. Можно даже проверить, что то, что мы получили, то есть первый батч имееет правильную размерность.В y - 1 это класс цифры \"7\", 0 - \"3\""
      ]
    },
    {
      "cell_type": "code",
      "execution_count": null,
      "metadata": {
        "colab": {
          "base_uri": "https://localhost:8080/",
          "height": 34
        },
        "id": "mQH1_6dSYlnW",
        "outputId": "f6f72aba-2367-442f-eb82-10f38c7d039d"
      },
      "outputs": [
        {
          "data": {
            "text/plain": [
              "torch.Size([128, 1, 28, 28])"
            ]
          },
          "execution_count": 8,
          "metadata": {},
          "output_type": "execute_result"
        }
      ],
      "source": [
        "X.shape #128 - примеров, [1, 28, 28] - размерность картинки, 1 - значит что из трех каналов (Р, Г, Б) у нас всего один, а сама картинка 28 на 28"
      ]
    },
    {
      "cell_type": "code",
      "execution_count": null,
      "metadata": {
        "colab": {
          "base_uri": "https://localhost:8080/",
          "height": 34
        },
        "id": "yGAYt4oqYpW5",
        "outputId": "28184602-483d-45e4-f6b1-3b82cec0d19f"
      },
      "outputs": [
        {
          "data": {
            "text/plain": [
              "torch.Size([128])"
            ]
          },
          "execution_count": 9,
          "metadata": {},
          "output_type": "execute_result"
        }
      ],
      "source": [
        "y.shape"
      ]
    },
    {
      "cell_type": "markdown",
      "metadata": {
        "id": "CNVEJYNXN_Gd"
      },
      "source": [
        "Проверим, правда ли это картинки"
      ]
    },
    {
      "cell_type": "code",
      "execution_count": null,
      "metadata": {
        "colab": {
          "base_uri": "https://localhost:8080/",
          "height": 420
        },
        "id": "-Kkv2jAKN_Ge",
        "outputId": "10a727e2-6340-4f62-91fa-6f0e441c86ac"
      },
      "outputs": [
        {
          "data": {
            "image/png": "[encoded data removed]",
            "text/plain": [
              "<Figure size 432x504 with 25 Axes>"
            ]
          },
          "metadata": {
            "needs_background": "light"
          },
          "output_type": "display_data"
        }
      ],
      "source": [
        "X, y = next(iter(train_loader))\n",
        "X = X.numpy() # перевод тензора в массив нумпай, просто изменение типа данных\n",
        "y = y.numpy()\n",
        "\n",
        "plt.figure(figsize=(6, 7))\n",
        "for i in range(25):\n",
        "    plt.subplot(5, 5, i+1)\n",
        "    plt.imshow(X[i].reshape(28, 28), cmap=plt.cm.Greys_r)\n",
        "    plt.title(y[i])\n",
        "    plt.axis('off')"
      ]
    },
    {
      "cell_type": "markdown",
      "metadata": {
        "id": "jL6Cd-7tb29_"
      },
      "source": [
        "Нам столько размерностей не нужно, поэтому давайте выпрямим матрицу, тем боле мы знаем что значение каждого пикселя независимо друг друга."
      ]
    },
    {
      "cell_type": "code",
      "execution_count": null,
      "metadata": {
        "colab": {
          "base_uri": "https://localhost:8080/",
          "height": 34
        },
        "id": "tDiEEUYJN_G6",
        "outputId": "c057b0ba-904b-4a91-e982-db48628aa346"
      },
      "outputs": [
        {
          "data": {
            "text/plain": [
              "torch.Size([128, 784])"
            ]
          },
          "execution_count": 11,
          "metadata": {},
          "output_type": "execute_result"
        }
      ],
      "source": [
        "X, y = next(iter(train_loader))\n",
        "X = X.view(X.shape[0], -1)\n",
        "X.shape"
      ]
    },
    {
      "cell_type": "markdown",
      "metadata": {
        "id": "6_m0y3z9N_HN"
      },
      "source": [
        " Размерность\n",
        "- количество примеров в батче\n",
        "- количество фичей"
      ]
    },
    {
      "cell_type": "code",
      "execution_count": null,
      "metadata": {
        "colab": {
          "base_uri": "https://localhost:8080/",
          "height": 119
        },
        "id": "0rRs_fibN_HX",
        "outputId": "e029c693-4927-4781-e4a7-8ee3a4b02d1e"
      },
      "outputs": [
        {
          "data": {
            "text/plain": [
              "tensor([0, 0, 1, 1, 1, 1, 1, 0, 1, 0, 1, 1, 1, 1, 1, 0, 0, 1, 0, 1, 1, 1, 0, 1,\n",
              "        1, 0, 1, 0, 1, 0, 0, 0, 0, 1, 0, 0, 0, 0, 1, 0, 1, 0, 1, 1, 1, 0, 1, 0,\n",
              "        1, 1, 0, 1, 1, 1, 0, 0, 1, 0, 0, 0, 1, 0, 0, 1, 1, 1, 1, 1, 0, 1, 0, 1,\n",
              "        1, 0, 1, 1, 0, 0, 1, 1, 0, 1, 0, 0, 0, 1, 0, 0, 1, 0, 0, 1, 1, 1, 0, 0,\n",
              "        1, 1, 0, 1, 0, 1, 1, 1, 0, 1, 0, 0, 1, 0, 0, 1, 1, 0, 1, 1, 1, 0, 0, 1,\n",
              "        0, 0, 1, 1, 0, 1, 1, 1])"
            ]
          },
          "execution_count": 12,
          "metadata": {},
          "output_type": "execute_result"
        }
      ],
      "source": [
        "y"
      ]
    },
    {
      "cell_type": "markdown",
      "metadata": {
        "id": "Z4vTsvPZdPQg"
      },
      "source": [
        "Такой У нам не совсем подходит. Сейчас объясню почему. Размерность Х (128,784) матрично перемножим на скрытый слой (784,1) и получится (128,1). Нужно понимать, что размерность (128,) и (128,1) это немного разные вещи  "
      ]
    },
    {
      "cell_type": "code",
      "execution_count": null,
      "metadata": {
        "colab": {
          "base_uri": "https://localhost:8080/",
          "height": 34
        },
        "id": "98g7689ON_Hc",
        "outputId": "007d721e-ebd9-4752-d948-97887b4917bd"
      },
      "outputs": [
        {
          "data": {
            "text/plain": [
              "torch.Size([128, 1])"
            ]
          },
          "execution_count": 13,
          "metadata": {},
          "output_type": "execute_result"
        }
      ],
      "source": [
        "w = torch.rand(784, 1) #Рандомные необученые веса\n",
        "pred = X.matmul(w)\n",
        "pred.shape"
      ]
    },
    {
      "cell_type": "code",
      "execution_count": null,
      "metadata": {
        "colab": {
          "base_uri": "https://localhost:8080/",
          "height": 1000
        },
        "id": "KG9L5xtJd9TQ",
        "outputId": "6e5671bc-eb6a-4e20-f5c9-2d391b067d4a"
      },
      "outputs": [
        {
          "data": {
            "text/plain": [
              "tensor([[ 23.6129],\n",
              "        [  4.6769],\n",
              "        [-29.0384],\n",
              "        [  2.8155],\n",
              "        [-20.9576],\n",
              "        [-33.3728],\n",
              "        [-32.0216],\n",
              "        [-29.9905],\n",
              "        [-44.1439],\n",
              "        [ 10.5935],\n",
              "        [ -9.8913],\n",
              "        [ 21.0052],\n",
              "        [ 14.3403],\n",
              "        [-34.4542],\n",
              "        [ -2.7665],\n",
              "        [ 14.6303],\n",
              "        [ 14.6957],\n",
              "        [-32.1234],\n",
              "        [-38.8756],\n",
              "        [-97.7370],\n",
              "        [ 29.7811],\n",
              "        [ 46.0822],\n",
              "        [ 37.4300],\n",
              "        [-65.2738],\n",
              "        [  4.8721],\n",
              "        [ 16.6939],\n",
              "        [ -8.0711],\n",
              "        [  1.0800],\n",
              "        [ -3.1940],\n",
              "        [-26.1743],\n",
              "        [-30.4023],\n",
              "        [ 87.9364],\n",
              "        [-30.3342],\n",
              "        [-11.8137],\n",
              "        [ 38.0376],\n",
              "        [-83.7888],\n",
              "        [ 45.0204],\n",
              "        [ 59.1191],\n",
              "        [-94.7459],\n",
              "        [ 15.0934],\n",
              "        [-51.0512],\n",
              "        [ 18.8436],\n",
              "        [-33.7270],\n",
              "        [-41.6784],\n",
              "        [-62.2943],\n",
              "        [ 13.3313],\n",
              "        [ -7.5356],\n",
              "        [-81.8443],\n",
              "        [  4.3579],\n",
              "        [-54.1171],\n",
              "        [-16.3133],\n",
              "        [-21.8540],\n",
              "        [ 28.0537],\n",
              "        [-62.4810],\n",
              "        [ 59.2756],\n",
              "        [ 10.6052],\n",
              "        [ 30.6838],\n",
              "        [ 50.8943],\n",
              "        [ 18.0937],\n",
              "        [-81.2840],\n",
              "        [-23.6363],\n",
              "        [ 43.3593],\n",
              "        [ 11.5768],\n",
              "        [-44.8445],\n",
              "        [-49.7926],\n",
              "        [ 19.5333],\n",
              "        [-65.6750],\n",
              "        [-42.6831],\n",
              "        [ 62.8396],\n",
              "        [-32.5363],\n",
              "        [-15.1960],\n",
              "        [  6.5376],\n",
              "        [-46.0921],\n",
              "        [-58.6524],\n",
              "        [-21.2694],\n",
              "        [-63.1421],\n",
              "        [ 41.8262],\n",
              "        [-92.7015],\n",
              "        [-52.7166],\n",
              "        [-10.3931],\n",
              "        [ 26.7458],\n",
              "        [-27.1108],\n",
              "        [-14.1422],\n",
              "        [ 32.9864],\n",
              "        [ 84.1812],\n",
              "        [-28.7074],\n",
              "        [-11.6129],\n",
              "        [  9.7536],\n",
              "        [-53.2190],\n",
              "        [ 18.8959],\n",
              "        [ 16.7561],\n",
              "        [-77.3996],\n",
              "        [-32.1074],\n",
              "        [-24.1810],\n",
              "        [ 54.7586],\n",
              "        [-33.2571],\n",
              "        [-40.1978],\n",
              "        [-64.0846],\n",
              "        [ 91.4071],\n",
              "        [-65.7300],\n",
              "        [-10.6119],\n",
              "        [-24.9045],\n",
              "        [-56.4691],\n",
              "        [-10.1501],\n",
              "        [ 94.0879],\n",
              "        [-22.0690],\n",
              "        [-22.1313],\n",
              "        [-80.9181],\n",
              "        [-27.2491],\n",
              "        [-28.7550],\n",
              "        [ -1.6214],\n",
              "        [-37.6536],\n",
              "        [ 52.4954],\n",
              "        [ -4.7594],\n",
              "        [-19.0088],\n",
              "        [-70.2608],\n",
              "        [-68.9764],\n",
              "        [ 38.2743],\n",
              "        [ 59.5389],\n",
              "        [-66.8509],\n",
              "        [181.5993],\n",
              "        [ 34.9609],\n",
              "        [-20.1456],\n",
              "        [-62.2189],\n",
              "        [-14.3680],\n",
              "        [-24.8305],\n",
              "        [-54.6709],\n",
              "        [-56.6698]])"
            ]
          },
          "execution_count": 14,
          "metadata": {},
          "output_type": "execute_result"
        }
      ],
      "source": [
        "pred"
      ]
    },
    {
      "cell_type": "markdown",
      "metadata": {
        "id": "Rb1hswcGeEpc"
      },
      "source": [
        "Теперь у нас есть предсказания и их размерность (128,1). Нужно будет счтить лосс с у, поэтому приведем его к такой же размерности с expand_dims - это функция есть в нумпае, также есть и в торче"
      ]
    },
    {
      "cell_type": "code",
      "execution_count": null,
      "metadata": {
        "id": "wAIFQMfwN_Hl"
      },
      "outputs": [],
      "source": [
        "y = np.expand_dims(y, 1)"
      ]
    },
    {
      "cell_type": "code",
      "execution_count": null,
      "metadata": {
        "colab": {
          "base_uri": "https://localhost:8080/",
          "height": 1000
        },
        "id": "SrlrvUq7N_Hw",
        "outputId": "3a38d8c2-f9ce-4565-c289-fd32ac79dec1"
      },
      "outputs": [
        {
          "data": {
            "text/plain": [
              "array([[0],\n",
              "       [0],\n",
              "       [1],\n",
              "       [1],\n",
              "       [1],\n",
              "       [1],\n",
              "       [1],\n",
              "       [0],\n",
              "       [1],\n",
              "       [0],\n",
              "       [1],\n",
              "       [1],\n",
              "       [1],\n",
              "       [1],\n",
              "       [1],\n",
              "       [0],\n",
              "       [0],\n",
              "       [1],\n",
              "       [0],\n",
              "       [1],\n",
              "       [1],\n",
              "       [1],\n",
              "       [0],\n",
              "       [1],\n",
              "       [1],\n",
              "       [0],\n",
              "       [1],\n",
              "       [0],\n",
              "       [1],\n",
              "       [0],\n",
              "       [0],\n",
              "       [0],\n",
              "       [0],\n",
              "       [1],\n",
              "       [0],\n",
              "       [0],\n",
              "       [0],\n",
              "       [0],\n",
              "       [1],\n",
              "       [0],\n",
              "       [1],\n",
              "       [0],\n",
              "       [1],\n",
              "       [1],\n",
              "       [1],\n",
              "       [0],\n",
              "       [1],\n",
              "       [0],\n",
              "       [1],\n",
              "       [1],\n",
              "       [0],\n",
              "       [1],\n",
              "       [1],\n",
              "       [1],\n",
              "       [0],\n",
              "       [0],\n",
              "       [1],\n",
              "       [0],\n",
              "       [0],\n",
              "       [0],\n",
              "       [1],\n",
              "       [0],\n",
              "       [0],\n",
              "       [1],\n",
              "       [1],\n",
              "       [1],\n",
              "       [1],\n",
              "       [1],\n",
              "       [0],\n",
              "       [1],\n",
              "       [0],\n",
              "       [1],\n",
              "       [1],\n",
              "       [0],\n",
              "       [1],\n",
              "       [1],\n",
              "       [0],\n",
              "       [0],\n",
              "       [1],\n",
              "       [1],\n",
              "       [0],\n",
              "       [1],\n",
              "       [0],\n",
              "       [0],\n",
              "       [0],\n",
              "       [1],\n",
              "       [0],\n",
              "       [0],\n",
              "       [1],\n",
              "       [0],\n",
              "       [0],\n",
              "       [1],\n",
              "       [1],\n",
              "       [1],\n",
              "       [0],\n",
              "       [0],\n",
              "       [1],\n",
              "       [1],\n",
              "       [0],\n",
              "       [1],\n",
              "       [0],\n",
              "       [1],\n",
              "       [1],\n",
              "       [1],\n",
              "       [0],\n",
              "       [1],\n",
              "       [0],\n",
              "       [0],\n",
              "       [1],\n",
              "       [0],\n",
              "       [0],\n",
              "       [1],\n",
              "       [1],\n",
              "       [0],\n",
              "       [1],\n",
              "       [1],\n",
              "       [1],\n",
              "       [0],\n",
              "       [0],\n",
              "       [1],\n",
              "       [0],\n",
              "       [0],\n",
              "       [1],\n",
              "       [1],\n",
              "       [0],\n",
              "       [1],\n",
              "       [1],\n",
              "       [1]])"
            ]
          },
          "execution_count": 16,
          "metadata": {},
          "output_type": "execute_result"
        }
      ],
      "source": [
        "y"
      ]
    },
    {
      "cell_type": "markdown",
      "metadata": {
        "id": "TFAKpwY_N_H_"
      },
      "source": [
        "Итерация по эпохам"
      ]
    },
    {
      "cell_type": "code",
      "execution_count": null,
      "metadata": {
        "colab": {
          "base_uri": "https://localhost:8080/",
          "height": 68
        },
        "id": "DWmQFlyWN_IB",
        "outputId": "5317f355-03fc-443c-90b2-811c563ac813"
      },
      "outputs": [
        {
          "name": "stdout",
          "output_type": "stream",
          "text": [
            "Эпоха - 1, прошли - 100.00 % датасета\n",
            "Эпоха - 2, прошли - 100.00 % датасета\n",
            "Эпоха - 3, прошли - 100.00 % датасета\n"
          ]
        }
      ],
      "source": [
        "epochs = 3\n",
        "\n",
        "for n_epoch in range(epochs):\n",
        "\n",
        "    dataset_passed_samples = 0\n",
        "\n",
        "    for x, y in train_loader:\n",
        "\n",
        "        # вот здесь мы могли бы как-то манипулировать с данными, например, учить, но пока этого делать не будет\n",
        "\n",
        "        time.sleep(0.05)\n",
        "\n",
        "        dataset_passed_samples += x.shape[0]\n",
        "\n",
        "        dataset_passed_percent = dataset_passed_samples * 100 / train_loader.dataset.data.shape[0]\n",
        "\n",
        "        print(f'Эпоха - {n_epoch + 1}, прошли - {dataset_passed_percent:.2f} % датасета', end='\\r')\n",
        "\n",
        "    print('\\r')"
      ]
    },
    {
      "cell_type": "markdown",
      "metadata": {
        "id": "8iBd9MS_f7Eg"
      },
      "source": [
        "# Однослойный персептрон"
      ]
    },
    {
      "cell_type": "code",
      "execution_count": null,
      "metadata": {
        "colab": {
          "base_uri": "https://localhost:8080/",
          "height": 102
        },
        "id": "x9wKt3z1gIo7",
        "outputId": "1eff2785-550d-4042-b511-05a050f71c96"
      },
      "outputs": [
        {
          "name": "stdout",
          "output_type": "stream",
          "text": [
            "Epoch: 1\n",
            "Epoch: 2\n",
            "Epoch: 3\n",
            "Epoch: 4\n",
            "Epoch: 5\n"
          ]
        }
      ],
      "source": [
        "learning_rate = 0.01 # тот самый лернинг рейт, который определяет какую часть от градиента мы будем брать\n",
        "epochs = 5  #сколько раз мы пройдем по всему тренировачному набору наших данных\n",
        "\n",
        "batch_size = 128  #это число примеров в баче понадобится нам при обучении чтобы усреднять лосс (ошибку обучения)\n",
        "n_feat = 784\n",
        "\n",
        "w1 = np.random.rand(n_feat,1)*0.01 #0.01 - нормируем таким образом наши веса, чтобы избежать деления на ноль при бэкпропе,\n",
        "                                    #эмпирически выбрано, так как сами фичи у нас имеют значения близкие к 0\n",
        "b1 = np.zeros(1) #размерность должна совпадать с количеством параметров, которые у нас останутся после матричного перемножения\n",
        "\n",
        "losses = [] #на каждой итерации (и для всех эпох) будем сохранять сюда наш Лосс, чтобы видеть обучается ли НС\n",
        "\n",
        "for n_epoch in range(epochs):\n",
        "\n",
        "    print(f'Epoch: {n_epoch + 1}')\n",
        "\n",
        "    for x, y in train_loader:\n",
        "\n",
        "        x = x.view(x.shape[0], -1).numpy() #приводим к размерности (128,784)\n",
        "        y = np.expand_dims(y.numpy(), 1) #приводим к размерности (128,1)\n",
        "\n",
        "        h1 = x.dot(w1) + b1 #переход в одномерное пространство\n",
        "        p = 1/(1+np.exp(-h1)) #преобразование в \"вероятности\"\n",
        "\n",
        "        bce = (-np.sum(np.multiply(np.log(p), y) + np.multiply((1 - y), np.log(1 - p)))) / batch_size\n",
        "        #расчет энтропии с усреднением по размеру бача\n",
        "\n",
        "        losses.append(bce)\n",
        "        #ниже производная bce и sigmoid, если вы распишите две этих производные, перемножите и сократите, то полчится следующая строчка\n",
        "        dp = (p - y) / batch_size\n",
        "        dw1 = np.dot(x.T, dp) # производная по линейному преобразванию, относительно W - весов\n",
        "        db1 = np.sum(dp) # производная по лин преобразованиюб относительно В - баяса,\n",
        "        #здесь по идее должно быть перемножение на единичный вектор (128,1), но это тоже самое что и сумма значениеб типа лайф хак\n",
        "\n",
        "        w1 -= learning_rate * dw1 # Обновим веса и баясы\n",
        "        b1 -= learning_rate * db1"
      ]
    },
    {
      "cell_type": "markdown",
      "metadata": {
        "id": "Lc3-pw-4wMum"
      },
      "source": [
        "А теперь построим график функции потерь"
      ]
    },
    {
      "cell_type": "code",
      "execution_count": null,
      "metadata": {
        "colab": {
          "base_uri": "https://localhost:8080/",
          "height": 747
        },
        "id": "NvB4U5OXhE3t",
        "outputId": "6248bafc-51df-44a5-fc44-5c47efd21817"
      },
      "outputs": [
        {
          "data": {
            "text/plain": [
              "Text(0, 0.5, 'Loss function')"
            ]
          },
          "execution_count": 19,
          "metadata": {},
          "output_type": "execute_result"
        },
        {
          "data": {
            "image/png": "[encoded data removed]",
            "text/plain": [
              "<Figure size 1008x864 with 1 Axes>"
            ]
          },
          "metadata": {
            "needs_background": "light"
          },
          "output_type": "display_data"
        }
      ],
      "source": [
        "plt.figure(figsize=(14, 12))\n",
        "plt.plot(losses)\n",
        "plt.grid()\n",
        "plt.title('Training process')\n",
        "plt.xlabel('Iterations')\n",
        "plt.ylabel('Loss function')"
      ]
    },
    {
      "cell_type": "markdown",
      "metadata": {
        "id": "IfpCVrN2tO5S"
      },
      "source": [
        "## Математика\n",
        "\n",
        "\n",
        "![alt text](https://sun9-39.userapi.com/c850608/v850608777/47a4/fgZlI898IUU.jpg)\n",
        "![alt text](https://sun9-41.userapi.com/c858216/v858216777/cc4f5/v3CPa-tnm80.jpg)\n",
        "![alt text](https://sun9-67.userapi.com/c857632/v857632471/f6e95/H0dsmWsUInc.jpg)\n",
        "![alt text](https://sun9-71.userapi.com/c858120/v858120274/10d0ef/hdKO-3Syk3g.jpg)\n",
        "\n"
      ]
    },
    {
      "cell_type": "markdown",
      "metadata": {
        "id": "ToNAC3-bN_IN"
      },
      "source": [
        "А теперь ваша очередь, нужно написать двуслойный персептрон, согласно коду и выкладкам выше"
      ]
    },
    {
      "cell_type": "code",
      "execution_count": null,
      "metadata": {
        "id": "yJSR8hdTN_IO",
        "outputId": "a929058d-7946-40e3-e9d7-f9bad80b1de3"
      },
      "outputs": [
        {
          "name": "stdout",
          "output_type": "stream",
          "text": [
            "Epoch: 1\n",
            "Epoch: 2\n",
            "Epoch: 3\n",
            "Epoch: 4\n",
            "Epoch: 5\n"
          ]
        }
      ],
      "source": [
        "import numpy as np\n",
        "\n",
        "# Гиперпараметры\n",
        "learning_rate = 0.01\n",
        "epochs = 5\n",
        "batch_size = 128\n",
        "n_feat = 784\n",
        "n_hidden = 128\n",
        "n_output = 1\n",
        "\n",
        "# Инициализация весов и смещений\n",
        "w1 = np.random.rand(n_feat, n_hidden) * 0.01\n",
        "b1 = np.zeros((1, n_hidden))\n",
        "w2 = np.random.rand(n_hidden, n_output) * 0.01\n",
        "b2 = np.zeros((1, n_output))\n",
        "losses = []\n",
        "\n",
        "for n_epoch in range(epochs):\n",
        "\n",
        "    print(f'Epoch: {n_epoch + 1}')\n",
        "\n",
        "    for x, y in train_loader:\n",
        "\n",
        "        x = x.view(x.shape[0], -1).numpy()\n",
        "        y = np.expand_dims(y.numpy(), 1)\n",
        "\n",
        "        ### Прямой проход ###\n",
        "        h1 = x.dot(w1) + b1\n",
        "        a1 = 1/(1 + np.exp(-h1))\n",
        "        h2 = a1.dot(w2) + b2\n",
        "        p = 1/(1 + np.exp(-h2))\n",
        "\n",
        "        ### Рассчет функции потерь ###\n",
        "        bce = (-np.sum(np.multiply(np.log(p), y) + np.multiply((1 - y), np.log(1 - p)))) / batch_size\n",
        "        losses.append(bce)\n",
        "\n",
        "        ### Обратный проход ###\n",
        "        dp = (p - y) / batch_size\n",
        "        dw2 = a1.T.dot(dp)\n",
        "        db2 = np.sum(dp, axis=0, keepdims=True)\n",
        "        da1 = dp.dot(w2.T)\n",
        "        dh1 = da1 * (a1 * (1 - a1))\n",
        "        dw1 = x.T.dot(dh1)\n",
        "        db1 = np.sum(dh1, axis=0, keepdims=True)\n",
        "\n",
        "        ### Градиентный спуск ###\n",
        "        w1 -= learning_rate * dw1\n",
        "        b1 -= learning_rate * db1\n",
        "        w2 -= learning_rate * dw2\n",
        "        b2 -= learning_rate * db2"
      ]
    },
    {
      "cell_type": "markdown",
      "metadata": {
        "id": "ur7SqyVGN_IY"
      },
      "source": [
        "## Подсказки по размерностям\n",
        "\n",
        "### Forward\n",
        "\n",
        "- z1 - первое линейное преобразование - (BATCH_SIZE, INNER_FEATURES)\n",
        "- a1 - Применение нелинейности - (BATCH_SIZE, INNER_FEATURES)\n",
        "- z2 - второе нелинейное преобразование - (BATCH_SIZE, 1)\n",
        "- pred or A2- сигмоида - (BATCH_SIZE, 1)\n",
        "- loss - функция потерь - скаляр\n",
        "\n",
        "### Backward\n",
        "\n",
        "- d_BCE/d_pred - градиент функции потерь по pred - (BATCH_SIZE, 1)\n",
        "- d_pred/dz2 - градиент сигмоиды по z2 - (BATCH_SIZE, 1)\n",
        "- dz2/da1 - градиент линейного преобразования по a1 - (BATCH_SIZE, INNER_FEATURES)\n",
        "- dz2/dw2 - градиент линейного преобразования по w2 - (INNER_FEATURES, 1)\n",
        "- dz2/db2 - градиент линейного преобразования по b2 - (1,)\n",
        "- da1/dz1 - градиент нелинейной функции по z1 - (BATCH_SIZE, INNER_FEATURES)\n",
        "- dz1/dw1 - градиент линейного преобразования по w1 - (IN_FEATURES, INNER_FEATURES)\n",
        "- dz1/db1 - градиент линейного преобразования по b1 - (INNER_FEATURES,)"
      ]
    },
    {
      "cell_type": "markdown",
      "metadata": {
        "id": "ihOoASMAN_Ia"
      },
      "source": [
        "и график нарисуйте"
      ]
    },
    {
      "cell_type": "code",
      "execution_count": null,
      "metadata": {
        "id": "CwRzXKRNN_Ic",
        "outputId": "a0cf5951-b66f-431d-9482-d258760039e1"
      },
      "outputs": [
        {
          "data": {
            "image/png": "[encoded data removed]",
            "text/plain": [
              "<Figure size 1008x864 with 1 Axes>"
            ]
          },
          "metadata": {
            "needs_background": "light"
          },
          "output_type": "display_data"
        }
      ],
      "source": [
        "plt.figure(figsize=(14, 12))\n",
        "plt.plot(losses)\n",
        "plt.grid()\n",
        "plt.title('Training process')\n",
        "plt.xlabel('Iterations')\n",
        "plt.ylabel('Loss function');"
      ]
    },
    {
      "cell_type": "markdown",
      "metadata": {
        "id": "axU2DnJ1IT1J"
      },
      "source": [
        "# Тестирование"
      ]
    },
    {
      "cell_type": "markdown",
      "metadata": {
        "id": "4sd8o1ZbIEXH"
      },
      "source": [
        "А как это тестировать? Да, очень просто нужно просто выполнять форвард без бэкворда, то есть последовательно применять преобразования с обученными весами"
      ]
    },
    {
      "cell_type": "markdown",
      "metadata": {
        "id": "le2NHApDHtjO"
      },
      "source": [
        "## Нужно сперва провести обучение еще раз, чтобы переписать значения w1 и b1, ведь они пересчитались при обучении двух слойной сети"
      ]
    },
    {
      "cell_type": "code",
      "execution_count": null,
      "metadata": {
        "id": "JM0G2Qk2HtjO",
        "outputId": "e2c0f5b5-6a64-4b04-dfca-f908271fa436"
      },
      "outputs": [
        {
          "name": "stdout",
          "output_type": "stream",
          "text": [
            "Epoch: 1\n",
            "Epoch: 2\n",
            "Epoch: 3\n",
            "Epoch: 4\n",
            "Epoch: 5\n"
          ]
        }
      ],
      "source": [
        "learning_rate = 0.01 # тот самый лернинг рейт, который определяет какую часть от градиента мы будем брать\n",
        "epochs = 5  #сколько раз мы пройдем по всему тренировачному набору наших данных\n",
        "\n",
        "batch_size = 128  #это число примеров в баче понадобится нам при обучении чтобы усреднять лосс (ошибку обучения)\n",
        "n_feat = 784\n",
        "\n",
        "w1 = np.random.rand(n_feat,1)*0.01 #0.01 - нормируем таким образом наши веса, чтобы избежать деления на ноль при бэкпропе,\n",
        "                                    #эмпирически выбрано, так как сами фичи у нас имеют значения близкие к 0\n",
        "b1 = np.zeros(1) #размерность должна совпадать с количеством параметров, которые у нас останутся после матричного перемножения\n",
        "\n",
        "losses = [] #на каждой итерации (и для всех эпох) будем сохранять сюда наш Лосс, чтобы видеть обучается ли НС\n",
        "\n",
        "for n_epoch in range(epochs):\n",
        "\n",
        "    print(f'Epoch: {n_epoch + 1}')\n",
        "\n",
        "    for x, y in train_loader:\n",
        "\n",
        "        x = x.view(x.shape[0], -1).numpy() #приводим к размерности (128,784)\n",
        "        y = np.expand_dims(y.numpy(), 1) #приводим к размерности (128,1)\n",
        "\n",
        "        h1 = x.dot(w1) + b1 #переход в одномерное пространство\n",
        "        p = 1/(1+np.exp(-h1)) #преобразование в \"вероятности\"\n",
        "\n",
        "        bce = (-np.sum(np.multiply(np.log(p), y) + np.multiply((1 - y), np.log(1 - p)))) / batch_size\n",
        "        #расчет энтропии с усреднением по размеру бача\n",
        "\n",
        "        losses.append(bce)\n",
        "        #ниже производная bce и sigmoid, если вы распишите две этих производные, перемножите и сократите, то полчится следующая строчка\n",
        "        dp = (p - y) / batch_size\n",
        "        dw1 = np.dot(x.T, dp) # производная по линейному преобразванию, относительно W - весов\n",
        "        db1 = np.sum(dp) # производная по лин преобразованиюб относительно В - баяса,\n",
        "        #здесь по идее должно быть перемножение на единичный вектор (128,1), но это тоже самое что и сумма значениеб типа лайф хак\n",
        "\n",
        "        w1 -= learning_rate * dw1 # Обновим веса и баясы\n",
        "        b1 -= learning_rate * db1"
      ]
    },
    {
      "cell_type": "code",
      "execution_count": null,
      "metadata": {
        "id": "7DKeGWwzIliO"
      },
      "outputs": [],
      "source": [
        "losses_test = []\n",
        "predicted = []\n",
        "true_lbls = []\n",
        "\n",
        "for x, y in test_loader:\n",
        "\n",
        "  x = x.view(x.shape[0], -1).numpy()\n",
        "  y = np.expand_dims(y.numpy(), 1)\n",
        "\n",
        "  h1 = x.dot(w1) + b1 #переход в одномерное пространство\n",
        "  p = 1/(1+np.exp(-h1)) #преобразование в \"вероятности\"\n",
        "\n",
        "  bce = (-np.sum(np.multiply(np.log(p), y) + np.multiply((1 - y), np.log(1 - p)))) / batch_size\n",
        "  #расчет энтропии с усреднением по размеру бача\n",
        "\n",
        "  losses_test.append(bce)\n",
        "  predicted.extend(p)\n",
        "  true_lbls.extend(y)"
      ]
    },
    {
      "cell_type": "markdown",
      "metadata": {
        "id": "259SOuP5K2HR"
      },
      "source": [
        "Проверим, что для каждого семплау нас есть предсказание"
      ]
    },
    {
      "cell_type": "code",
      "execution_count": null,
      "metadata": {
        "colab": {
          "base_uri": "https://localhost:8080/",
          "height": 34
        },
        "id": "J3NQGFxfJY-4",
        "outputId": "2f71ca0f-f296-481d-b076-1b80a4385b4e"
      },
      "outputs": [
        {
          "name": "stdout",
          "output_type": "stream",
          "text": [
            "2038 2038\n"
          ]
        }
      ],
      "source": [
        "print(len(predicted), len(true_lbls))"
      ]
    },
    {
      "cell_type": "markdown",
      "metadata": {
        "id": "xWJ3fjLhK9z4"
      },
      "source": [
        "Теперь применим стандартную Ф меру и оценим нашу модель"
      ]
    },
    {
      "cell_type": "code",
      "execution_count": null,
      "metadata": {
        "colab": {
          "base_uri": "https://localhost:8080/",
          "height": 34
        },
        "id": "BbD-n9rVJlBe",
        "outputId": "1f3fb485-9ec7-42f6-aba8-6e390cef1b60"
      },
      "outputs": [
        {
          "name": "stdout",
          "output_type": "stream",
          "text": [
            "F1 score is equal to: 0.98\n"
          ]
        }
      ],
      "source": [
        "from sklearn.metrics import f1_score\n",
        "pred = np.array([round(i[0]) for i in predicted])\n",
        "# У нас были вероятности а нужны классы поэтому просто округлим каждое значени и получим лейблы\n",
        "t_lbls = np.array(true_lbls).squeeze() #снимем лишнюю размерность\n",
        "f1 = f1_score(pred, t_lbls, average='weighted')\n",
        "print('F1 score is equal to: {0:0.02f}'.format(f1))"
      ]
    },
    {
      "cell_type": "markdown",
      "metadata": {
        "id": "vMxfUk9DLfNx"
      },
      "source": [
        "Сделайте тоже самое для своей модели..."
      ]
    },
    {
      "cell_type": "markdown",
      "metadata": {
        "id": "BYqIGUtYHtjQ"
      },
      "source": [
        "## Нашу модель нужно обучить опять как и в предыдущий раз"
      ]
    },
    {
      "cell_type": "code",
      "execution_count": null,
      "metadata": {
        "id": "0PnLEbcKHtjQ",
        "outputId": "c9a2bdd4-d81e-4fc1-8e19-20414daa1240"
      },
      "outputs": [
        {
          "name": "stdout",
          "output_type": "stream",
          "text": [
            "Epoch: 1\n",
            "Epoch: 2\n",
            "Epoch: 3\n",
            "Epoch: 4\n",
            "Epoch: 5\n"
          ]
        }
      ],
      "source": [
        "import numpy as np\n",
        "\n",
        "# Гиперпараметры\n",
        "learning_rate = 0.01\n",
        "epochs = 5\n",
        "batch_size = 128\n",
        "n_feat = 784\n",
        "n_hidden = 128\n",
        "n_output = 1\n",
        "\n",
        "# Инициализация весов и смещений\n",
        "w1 = np.random.rand(n_feat, n_hidden) * 0.01\n",
        "b1 = np.zeros((1, n_hidden))\n",
        "w2 = np.random.rand(n_hidden, n_output) * 0.01\n",
        "b2 = np.zeros((1, n_output))\n",
        "losses = []\n",
        "\n",
        "for n_epoch in range(epochs):\n",
        "\n",
        "    print(f'Epoch: {n_epoch + 1}')\n",
        "\n",
        "    for x, y in train_loader:\n",
        "\n",
        "        x = x.view(x.shape[0], -1).numpy()\n",
        "        y = np.expand_dims(y.numpy(), 1)\n",
        "\n",
        "        ### Прямой проход ###\n",
        "        h1 = x.dot(w1) + b1\n",
        "        a1 = 1/(1 + np.exp(-h1))\n",
        "        h2 = a1.dot(w2) + b2\n",
        "        p = 1/(1 + np.exp(-h2))\n",
        "\n",
        "        ### Рассчет функции потерь ###\n",
        "        bce = (-np.sum(np.multiply(np.log(p), y) + np.multiply((1 - y), np.log(1 - p)))) / batch_size\n",
        "        losses.append(bce)\n",
        "\n",
        "        ### Обратный проход ###\n",
        "        dp = (p - y) / batch_size\n",
        "        dw2 = a1.T.dot(dp)\n",
        "        db2 = np.sum(dp, axis=0, keepdims=True)\n",
        "        da1 = dp.dot(w2.T)\n",
        "        dh1 = da1 * (a1 * (1 - a1))\n",
        "        dw1 = x.T.dot(dh1)\n",
        "        db1 = np.sum(dh1, axis=0, keepdims=True)\n",
        "\n",
        "        ### Градиентный спуск ###\n",
        "        w1 -= learning_rate * dw1\n",
        "        b1 -= learning_rate * db1\n",
        "        w2 -= learning_rate * dw2\n",
        "        b2 -= learning_rate * db2"
      ]
    },
    {
      "cell_type": "code",
      "execution_count": null,
      "metadata": {
        "id": "plkig1rcLmG_"
      },
      "outputs": [],
      "source": [
        "losses_test = []\n",
        "predicted = []\n",
        "true_lbls = []\n",
        "\n",
        "for x, y in test_loader:\n",
        "\n",
        "    x = x.view(x.shape[0], -1).numpy()\n",
        "    y = np.expand_dims(y.numpy(), 1)\n",
        "\n",
        "    ### Прямой проход на тестовых данных для первого слоя ###\n",
        "    h1_test = x.dot(w1) + b1\n",
        "    a1_test = 1 / (1 + np.exp(-h1_test))\n",
        "\n",
        "    ### Прямой проход на тестовых данных для второго слоя ###\n",
        "    h2_test = a1_test.dot(w2) + b2\n",
        "    p_test = 1 / (1 + np.exp(-h2_test))\n",
        "\n",
        "    ### Рассчет функции потерь на тестовых данных ###\n",
        "    bce_test = (-np.sum(np.multiply(np.log(p_test), y) + np.multiply((1 - y), np.log(1 - p_test)))) / batch_size\n",
        "    losses_test.append(bce_test)\n",
        "\n",
        "    predicted.extend(p_test)\n",
        "    true_lbls.extend(y)\n"
      ]
    },
    {
      "cell_type": "code",
      "execution_count": null,
      "metadata": {
        "id": "hYixJM58HtjQ",
        "outputId": "a744f3b7-083d-48b7-81fc-cb625fac18e0"
      },
      "outputs": [
        {
          "name": "stdout",
          "output_type": "stream",
          "text": [
            "F1 score is equal to: 0.97\n"
          ]
        }
      ],
      "source": [
        "from sklearn.metrics import f1_score\n",
        "pred = np.array([round(i[0]) for i in predicted])\n",
        "# У нас были вероятности а нужны классы поэтому просто округлим каждое значени и получим лейблы\n",
        "t_lbls = np.array(true_lbls).squeeze() #снимем лишнюю размерность\n",
        "f1 = f1_score(pred, t_lbls, average='weighted')\n",
        "print('F1 score is equal to: {0:0.02f}'.format(f1))"
      ]
    },
    {
      "cell_type": "code",
      "execution_count": null,
      "metadata": {
        "id": "ZmKaIUIQHtjR"
      },
      "outputs": [],
      "source": [
        "# F1 для однослойной сети на тестовых данных чуть лучше для двухслойной 0.97 против 0.98"
      ]
    },
    {
      "cell_type": "markdown",
      "metadata": {
        "id": "zHg6S-QgN_Mm"
      },
      "source": [
        "# Немного торча"
      ]
    },
    {
      "cell_type": "code",
      "execution_count": null,
      "metadata": {
        "id": "rWON-EQvN_Mn"
      },
      "outputs": [],
      "source": [
        "import torch"
      ]
    },
    {
      "cell_type": "markdown",
      "metadata": {
        "id": "MYyJMcmQN_Mq"
      },
      "source": [
        "### Мы можем определить нашу модель как последовательность уже существующих слоев, как в керасе"
      ]
    },
    {
      "cell_type": "code",
      "execution_count": null,
      "metadata": {
        "colab": {
          "base_uri": "https://localhost:8080/"
        },
        "id": "7WkLbwyAN_Mr",
        "outputId": "701a7938-6d56-4870-e967-99302c50b4f5"
      },
      "outputs": [
        {
          "data": {
            "text/plain": [
              "Sequential(\n",
              "  (linear_1): Linear(in_features=784, out_features=256, bias=True)\n",
              "  (relu): ReLU()\n",
              "  (linear_2): Linear(in_features=256, out_features=1, bias=True)\n",
              "  (sigmoid): Sigmoid()\n",
              ")"
            ]
          },
          "execution_count": 31,
          "metadata": {},
          "output_type": "execute_result"
        }
      ],
      "source": [
        "model = torch.nn.Sequential()\n",
        "\n",
        "model.add_module(name='linear_1', module=torch.nn.Linear(in_features=784, out_features=256))\n",
        "model.add_module(name='relu', module=torch.nn.ReLU())\n",
        "model.add_module(name='linear_2', module=torch.nn.Linear(in_features=256, out_features=1))\n",
        "model.add_module(name='sigmoid', module=torch.nn.Sigmoid())\n",
        "\n",
        "model"
      ]
    },
    {
      "cell_type": "markdown",
      "metadata": {
        "id": "xFnSynhmN_Mw"
      },
      "source": [
        "### Либо так"
      ]
    },
    {
      "cell_type": "code",
      "execution_count": null,
      "metadata": {
        "colab": {
          "base_uri": "https://localhost:8080/"
        },
        "id": "NjBXbnSNN_Mx",
        "outputId": "8fc4430a-67b3-410d-b201-2a076d03c67a"
      },
      "outputs": [
        {
          "data": {
            "text/plain": [
              "Sequential(\n",
              "  (0): Linear(in_features=784, out_features=256, bias=True)\n",
              "  (1): ReLU()\n",
              "  (2): Linear(in_features=256, out_features=1, bias=True)\n",
              "  (3): Sigmoid()\n",
              ")"
            ]
          },
          "execution_count": 32,
          "metadata": {},
          "output_type": "execute_result"
        }
      ],
      "source": [
        "model = torch.nn.Sequential(\n",
        "    torch.nn.Linear(in_features=784, out_features=256),\n",
        "    torch.nn.ReLU(),\n",
        "    torch.nn.Linear(in_features=256, out_features=1),\n",
        "    torch.nn.Sigmoid()\n",
        ")\n",
        "\n",
        "model"
      ]
    },
    {
      "cell_type": "markdown",
      "metadata": {
        "id": "MKOnBBifN_M1"
      },
      "source": [
        "## А вот для чего нужно было писать в домашке классы\n",
        "## Для определения своих моделей/слоев/чего вам захочется нам нужно сделать такую структуру"
      ]
    },
    {
      "cell_type": "code",
      "execution_count": null,
      "metadata": {
        "id": "iNXM6WnUN_M9"
      },
      "outputs": [],
      "source": [
        "# наследуемся от класса torch.nn.Module\n",
        "class MLP(torch.nn.Module):\n",
        "\n",
        "    # определяем метод __init__\n",
        "    # он нужен для того, чтобы мы могли определить нужные нам слои, веса, сохраняемые операции\n",
        "    #\n",
        "    # передаем ссылку на самого себя первым параметром\n",
        "    #\n",
        "    # определяем любые другие передаваемые аргументы\n",
        "    # могут быть чем угодно: числа, словари, другие слои, другие модели и вообще все что угодно\n",
        "    #\n",
        "    def __init__(self, in_features, inner_features, out_features):\n",
        "\n",
        "        # Главная задача этого метода - возможность использования в классе потомке, методов класса-родителя\n",
        "        # Вызываем __init__ родителя - torch.nn.Module\n",
        "        super().__init__()\n",
        "\n",
        "        # определяем слои и все что захотим сохранять/использовать\n",
        "        self.linear_1 = torch.nn.Linear(in_features=in_features, out_features=inner_features)\n",
        "        self.non_linear_function = torch.nn.ReLU()\n",
        "        self.linear_2 = torch.nn.Linear(in_features=inner_features, out_features=out_features)\n",
        "        self.sigmoid = torch.nn.Sigmoid()\n",
        "\n",
        "    # нам нужно обязательно реализовать метод forward\n",
        "    # это то, что нашей модели нужно делать, как оперировать с входными данными, как рассчитывать\n",
        "    # метод backward нам не нужно реализовывать, потому что в торче есть автоматическое дифференцирование\n",
        "    # главное, чтобы наши операции были дифференцируемы\n",
        "    # некоторые подробности можете узнать здесь:\n",
        "    # https://pytorch.org/tutorials/beginner/blitz/autograd_tutorial.html#sphx-glr-beginner-blitz-autograd-tutorial-py\n",
        "    # также список доступных дифференцируемых операций можете посмотреть здесь:\n",
        "    # https://pytorch.org/docs/stable/tensors.html\n",
        "    def forward(self, x):\n",
        "\n",
        "        # наша привычная схема\n",
        "        x = self.linear_1(x)\n",
        "        x = self.non_linear_function(x)\n",
        "        x = self.linear_2(x)\n",
        "        x = self.sigmoid(x)\n",
        "\n",
        "        return x\n",
        "\n",
        "    # мы также можем реализовать любые другие полезные нам методы внутри класса"
      ]
    },
    {
      "cell_type": "code",
      "execution_count": null,
      "metadata": {
        "id": "Ftetvx8MN_NA"
      },
      "outputs": [],
      "source": [
        "# определяем нашу модель\n",
        "model = MLP(in_features=784, inner_features=256, out_features=1)"
      ]
    },
    {
      "cell_type": "code",
      "execution_count": null,
      "metadata": {
        "colab": {
          "base_uri": "https://localhost:8080/"
        },
        "id": "G3zivrXiN_ND",
        "outputId": "c9cc05c0-44ca-4bd6-d7bd-2207123cf41b",
        "scrolled": true
      },
      "outputs": [
        {
          "data": {
            "text/plain": [
              "MLP(\n",
              "  (linear_1): Linear(in_features=784, out_features=256, bias=True)\n",
              "  (non_linear_function): ReLU()\n",
              "  (linear_2): Linear(in_features=256, out_features=1, bias=True)\n",
              "  (sigmoid): Sigmoid()\n",
              ")"
            ]
          },
          "execution_count": 35,
          "metadata": {},
          "output_type": "execute_result"
        }
      ],
      "source": [
        "model"
      ]
    },
    {
      "cell_type": "code",
      "execution_count": null,
      "metadata": {
        "colab": {
          "base_uri": "https://localhost:8080/"
        },
        "id": "pa4BG_t_N_NG",
        "outputId": "ac7dbe4a-e253-4ba5-f5ee-8da36cd5b715"
      },
      "outputs": [
        {
          "data": {
            "text/plain": [
              "torch.Size([256, 784])"
            ]
          },
          "execution_count": 36,
          "metadata": {},
          "output_type": "execute_result"
        }
      ],
      "source": [
        "# можем посмотреть веса\n",
        "model.linear_1.weight.shape"
      ]
    },
    {
      "cell_type": "code",
      "execution_count": null,
      "metadata": {
        "id": "n2hPqcyxN_NQ"
      },
      "outputs": [],
      "source": [
        "# еще нам нужно задать функцию потерь\n",
        "criterion = torch.nn.BCELoss()"
      ]
    },
    {
      "cell_type": "code",
      "execution_count": null,
      "metadata": {
        "id": "IEpYutCqN_Na"
      },
      "outputs": [],
      "source": [
        "# и оптимизатор, куда нужно передать параметры модели\n",
        "# параметры модели можно взять методом класса .parameters()\n",
        "optimizer = torch.optim.SGD(params=model.parameters(), lr=0.01)"
      ]
    },
    {
      "cell_type": "code",
      "execution_count": null,
      "metadata": {
        "colab": {
          "base_uri": "https://localhost:8080/"
        },
        "id": "V-ssB6KsN_Nf",
        "outputId": "2538defa-f558-49d4-8103-e415be2c4d62"
      },
      "outputs": [
        {
          "data": {
            "text/plain": [
              "[Parameter containing:\n",
              " tensor([[-0.0321, -0.0020, -0.0005,  ..., -0.0141, -0.0209,  0.0025],\n",
              "         [-0.0113, -0.0122,  0.0294,  ..., -0.0162, -0.0350, -0.0272],\n",
              "         [-0.0010, -0.0021, -0.0080,  ...,  0.0098, -0.0120,  0.0304],\n",
              "         ...,\n",
              "         [ 0.0305,  0.0210,  0.0085,  ...,  0.0198, -0.0014, -0.0344],\n",
              "         [-0.0307,  0.0163,  0.0229,  ...,  0.0014, -0.0137,  0.0112],\n",
              "         [-0.0307,  0.0271, -0.0287,  ..., -0.0218,  0.0267,  0.0242]],\n",
              "        requires_grad=True),\n",
              " Parameter containing:\n",
              " tensor([-2.1691e-02, -1.1779e-02,  2.4831e-02, -3.4558e-02,  2.5058e-02,\n",
              "         -3.1579e-03,  2.1998e-02, -2.6690e-02, -1.6732e-02, -9.4520e-03,\n",
              "         -2.1554e-03, -8.1775e-03, -3.4272e-02,  2.3421e-02,  4.1240e-03,\n",
              "          2.9308e-03, -1.6446e-02, -7.4919e-03, -7.4420e-03, -5.0668e-03,\n",
              "         -3.3678e-02, -1.8424e-02,  3.2857e-02, -3.3721e-02,  9.9249e-03,\n",
              "          1.1975e-02,  1.9374e-02, -1.7151e-02, -1.4059e-02,  1.3574e-02,\n",
              "          2.4173e-02, -2.7412e-02,  1.3968e-02,  1.2403e-02, -9.1939e-03,\n",
              "          2.4120e-02,  2.1060e-02,  1.9643e-02,  2.0393e-02,  1.9422e-02,\n",
              "         -1.0464e-02,  2.6336e-02, -1.6465e-02, -2.2538e-02,  2.5630e-02,\n",
              "          3.4521e-02, -1.4055e-02,  4.4084e-03, -1.7713e-02, -2.1849e-02,\n",
              "          2.2308e-02, -2.5866e-02, -2.8554e-02, -3.1154e-02, -3.5268e-03,\n",
              "          9.9165e-03,  3.1483e-02, -1.1304e-02, -4.1894e-03, -2.9548e-02,\n",
              "          2.8475e-03,  2.3523e-02, -3.0353e-03, -1.5550e-02, -3.4110e-02,\n",
              "         -2.5808e-02, -2.6715e-02, -3.0062e-02,  9.4160e-03, -8.3694e-03,\n",
              "          1.3968e-02, -2.8459e-02,  3.4834e-04, -3.5183e-02, -1.0363e-02,\n",
              "          1.8409e-02, -1.0667e-02, -6.7839e-03,  2.0796e-03, -7.0452e-04,\n",
              "          1.4176e-02,  2.8899e-02,  2.7313e-02, -1.4869e-02, -4.8374e-03,\n",
              "          2.8866e-02,  2.4904e-02,  9.4562e-03, -2.9342e-02, -4.2597e-03,\n",
              "          2.2208e-02, -9.8739e-03, -1.6775e-02,  2.1203e-02, -3.3689e-02,\n",
              "         -2.3872e-02,  1.3413e-03,  3.7837e-04,  2.1494e-02,  1.6880e-02,\n",
              "         -2.1486e-02, -3.3581e-02, -1.9757e-02,  9.9924e-03,  2.6316e-02,\n",
              "         -1.9849e-02,  2.0936e-03,  1.8332e-02, -2.7904e-03, -4.8083e-03,\n",
              "         -5.6457e-03,  1.2015e-02,  3.2097e-02, -1.9460e-02,  1.0760e-02,\n",
              "         -3.1247e-02,  2.9065e-02, -1.6441e-02, -1.7619e-02,  1.4628e-02,\n",
              "         -3.2059e-02,  1.2230e-02,  2.5439e-02,  1.8573e-02,  1.7435e-02,\n",
              "         -2.7986e-02, -1.4561e-02,  4.7941e-03,  2.3970e-02, -6.4335e-04,\n",
              "         -2.8716e-02,  2.0244e-02, -6.7018e-03,  2.6043e-02,  6.6926e-04,\n",
              "          1.1173e-02, -2.2306e-02, -1.1346e-02, -2.2054e-02,  1.3170e-02,\n",
              "          1.9038e-02, -2.1153e-02, -1.3126e-02,  2.7997e-02,  3.9794e-03,\n",
              "         -2.0263e-02,  1.7682e-02,  1.1261e-02,  6.6549e-03,  7.6406e-03,\n",
              "         -4.6478e-04,  2.1428e-03,  4.6433e-03, -4.3399e-03,  6.1179e-03,\n",
              "          2.4631e-02, -1.5651e-02,  3.5561e-02, -2.8925e-02, -1.4307e-02,\n",
              "         -1.7977e-02, -2.4817e-02, -3.3995e-02, -4.6677e-03, -3.1628e-02,\n",
              "          1.1343e-02, -3.0393e-02,  3.5333e-02,  1.5747e-02,  2.2467e-02,\n",
              "          2.7344e-02, -3.1907e-02,  3.5310e-02,  2.3762e-02,  1.4455e-02,\n",
              "          8.6236e-03, -3.0185e-02,  2.1551e-03, -2.6142e-03, -2.9435e-02,\n",
              "          3.2865e-02, -1.6138e-02,  1.9005e-02,  2.3796e-02, -6.6225e-03,\n",
              "         -2.5456e-02, -3.1138e-02, -2.4153e-03,  3.4220e-02,  1.9256e-02,\n",
              "          3.2281e-02,  1.9564e-03, -2.1896e-02,  2.0094e-02,  2.4344e-02,\n",
              "          1.8648e-02,  5.3362e-03, -2.3822e-03, -1.1717e-02, -2.9481e-02,\n",
              "         -9.7664e-03, -6.9379e-03,  1.4777e-02, -1.1719e-02,  5.8740e-05,\n",
              "         -2.2930e-02,  2.1657e-02,  3.3294e-02,  1.0793e-02, -3.5537e-02,\n",
              "         -3.3610e-02,  1.1241e-02, -6.6117e-03,  6.7275e-03,  1.3381e-02,\n",
              "         -2.9664e-02, -2.8231e-02, -8.0077e-03,  2.8437e-02, -3.2169e-02,\n",
              "          2.7293e-03,  6.5747e-03, -2.7986e-02,  7.4391e-03, -2.0967e-02,\n",
              "          1.1862e-02,  1.2810e-02,  2.7940e-02,  2.3855e-02, -6.1505e-03,\n",
              "         -1.4003e-03, -1.2180e-02,  6.6188e-03, -2.8086e-03,  7.5527e-03,\n",
              "          2.6595e-02, -2.8395e-02,  8.1381e-03, -6.1030e-03, -3.4288e-02,\n",
              "          3.5211e-02, -2.7832e-03, -1.7397e-02,  9.9453e-04,  2.0932e-02,\n",
              "          2.6465e-02, -8.5346e-03,  4.7656e-04, -2.4729e-02, -9.9343e-04,\n",
              "          1.7633e-02, -2.2867e-02,  2.9458e-02, -1.5497e-02,  2.4631e-02,\n",
              "         -2.2682e-02], requires_grad=True),\n",
              " Parameter containing:\n",
              " tensor([[-0.0247, -0.0472,  0.0330, -0.0072, -0.0389, -0.0440, -0.0229, -0.0551,\n",
              "           0.0455, -0.0419,  0.0113, -0.0334, -0.0386,  0.0178, -0.0182, -0.0063,\n",
              "          -0.0298, -0.0445, -0.0397,  0.0475, -0.0194, -0.0077, -0.0455,  0.0258,\n",
              "           0.0443, -0.0360,  0.0001,  0.0463, -0.0015,  0.0440, -0.0287,  0.0067,\n",
              "          -0.0145,  0.0033, -0.0542,  0.0160,  0.0400, -0.0205,  0.0451, -0.0263,\n",
              "           0.0268,  0.0549, -0.0311, -0.0554,  0.0407, -0.0522, -0.0277,  0.0614,\n",
              "          -0.0411, -0.0370,  0.0595,  0.0088, -0.0315, -0.0396,  0.0043,  0.0337,\n",
              "           0.0452, -0.0013, -0.0594, -0.0387,  0.0216,  0.0395,  0.0617,  0.0521,\n",
              "          -0.0614, -0.0537,  0.0157,  0.0162, -0.0408,  0.0077, -0.0057,  0.0059,\n",
              "          -0.0321,  0.0036, -0.0358, -0.0602,  0.0485,  0.0146,  0.0528, -0.0293,\n",
              "           0.0596, -0.0527, -0.0198,  0.0240,  0.0544,  0.0292,  0.0020,  0.0318,\n",
              "           0.0611, -0.0211, -0.0151,  0.0411,  0.0611, -0.0387, -0.0494,  0.0187,\n",
              "          -0.0224,  0.0108, -0.0374,  0.0544, -0.0163,  0.0198, -0.0238,  0.0111,\n",
              "           0.0032,  0.0505,  0.0573, -0.0004,  0.0469, -0.0219,  0.0599, -0.0577,\n",
              "           0.0083,  0.0610,  0.0348, -0.0350, -0.0100,  0.0392, -0.0224,  0.0228,\n",
              "           0.0423, -0.0599,  0.0017,  0.0574, -0.0264,  0.0610, -0.0588, -0.0165,\n",
              "           0.0469,  0.0376, -0.0038, -0.0478,  0.0202,  0.0030, -0.0460,  0.0049,\n",
              "          -0.0161,  0.0484, -0.0192, -0.0331, -0.0494,  0.0393,  0.0039,  0.0197,\n",
              "           0.0344,  0.0079,  0.0213,  0.0227, -0.0434,  0.0304, -0.0367,  0.0485,\n",
              "           0.0130,  0.0276, -0.0158,  0.0015,  0.0470, -0.0534,  0.0595, -0.0291,\n",
              "          -0.0343,  0.0620, -0.0060,  0.0266, -0.0060,  0.0545, -0.0368, -0.0569,\n",
              "          -0.0533, -0.0159, -0.0101,  0.0050, -0.0104, -0.0242, -0.0252,  0.0379,\n",
              "           0.0426, -0.0408, -0.0456,  0.0311, -0.0365,  0.0427,  0.0196,  0.0026,\n",
              "           0.0309,  0.0309,  0.0233, -0.0519, -0.0212, -0.0028, -0.0603, -0.0100,\n",
              "          -0.0229,  0.0257,  0.0454, -0.0240, -0.0618, -0.0148, -0.0475, -0.0605,\n",
              "           0.0162,  0.0122, -0.0072, -0.0436, -0.0030,  0.0418,  0.0019, -0.0617,\n",
              "           0.0510, -0.0558,  0.0023, -0.0252,  0.0136, -0.0363,  0.0228,  0.0140,\n",
              "           0.0213, -0.0006,  0.0329,  0.0023, -0.0168, -0.0111, -0.0316,  0.0154,\n",
              "           0.0055,  0.0331, -0.0280,  0.0406, -0.0254,  0.0195,  0.0187, -0.0161,\n",
              "           0.0511, -0.0170,  0.0284, -0.0202,  0.0436,  0.0623,  0.0269,  0.0186,\n",
              "          -0.0106, -0.0049, -0.0586,  0.0413, -0.0448, -0.0287, -0.0099, -0.0106,\n",
              "          -0.0380, -0.0298,  0.0325, -0.0575,  0.0272,  0.0349,  0.0499,  0.0404]],\n",
              "        requires_grad=True),\n",
              " Parameter containing:\n",
              " tensor([-0.0586], requires_grad=True)]"
            ]
          },
          "execution_count": 39,
          "metadata": {},
          "output_type": "execute_result"
        }
      ],
      "source": [
        "# можем посмотреть на параметры нашей модели\n",
        "params = list(model.parameters())\n",
        "params"
      ]
    },
    {
      "cell_type": "markdown",
      "metadata": {
        "id": "5dnDbvw0N_No"
      },
      "source": [
        "# Обучим нашу модель"
      ]
    },
    {
      "cell_type": "code",
      "execution_count": null,
      "metadata": {
        "id": "O8ayasdLN_Np"
      },
      "outputs": [],
      "source": [
        "# давайте сохранять значения нашей функции потерь каждую итерацию обучения\n",
        "losses = []\n",
        "\n",
        "# эта штука все еще отдает нам батчи данных\n",
        "# мы поговорим про нее позже\n",
        "for x, y in train_loader:\n",
        "\n",
        "    x = x.view(x.shape[0], -1)\n",
        "    y = y.unsqueeze(1).float()\n",
        "\n",
        "    # обновим наши градиенты\n",
        "    # будем делать это каждую итерацию обучения\n",
        "    # потому что торч сохраняет в себе все градиенты пока не удалите таким образом рассчитанные градиенты\n",
        "    #\n",
        "    # НЕОБЯЗАТЕЛЬНЫЕ ДЕТАЛИ\n",
        "    # функция сохранения градиентов нужна для аккамуляции градиентов\n",
        "    # например, когда нам не хватает памяти на большой батч\n",
        "    # мы можем несколько раз прогнать forward на разных батчах\n",
        "    # наши градиенты будут сохраняться\n",
        "    # и только потом обновить через несколько итераций forward обновить наши веса\n",
        "    # таким образом у нас получается больше батч\n",
        "    #\n",
        "    optimizer.zero_grad()\n",
        "\n",
        "    #\n",
        "    # предсказание нашей модели\n",
        "    # здесь торч сам сохраняет необходимую информацию\n",
        "    # чтобы понять эту логику у нас как раз и была часть домашки про собственные классы\n",
        "    #\n",
        "    # торч строит динамический граф вычислений\n",
        "    # то есть строит граф по тем операциям, которые вы определили в методе forward\n",
        "    #\n",
        "    # то есть торч понимает, что вы сначала применили линейное преобразование\n",
        "    # знает, где лежат веса для этого линейного преобразования\n",
        "    # знает, что вы затем применили релу\n",
        "    # затем опять линейное преобразование\n",
        "    # затем сигмоиду\n",
        "    # и вот таким образом торч выстроил граф\n",
        "    # который нужен будет для backpropogation\n",
        "    #\n",
        "    pred = model(x)\n",
        "\n",
        "    #\n",
        "    # рассчитываем функцию потерь, добавляя в наш граф вычислений этот узел\n",
        "    #\n",
        "    loss = criterion(pred, y.float())\n",
        "\n",
        "    #\n",
        "    # вызываем метод backward() от нашей функции потерь (это крайний узел нашего графа вычислений)\n",
        "    # этот метод проходит от конца графа в начало, вычисляя необходимые градиенты\n",
        "    # передаем градиенты на следующие узлы\n",
        "    # для весов сохраняет\n",
        "    #\n",
        "    # то есть это почти то же самое, что мы делали в домашке с классами\n",
        "    #\n",
        "    loss.backward()\n",
        "\n",
        "    #\n",
        "    # теперь мы знаем необходимые градиенты и можем обновить веса с помощью градиентного спуска\n",
        "    #\n",
        "    optimizer.step()\n",
        "\n",
        "    #\n",
        "    # сохраним текущее значение функции потерь, чтобы потом могли посмотреть на график\n",
        "    # очень важный момент: нам нужно отсоединить значение нашей фунции потерь от графа вычислений\n",
        "    # чтобы граф не строился дальше на каждой итерации обучения\n",
        "    # так мы рано или поздно переполним память\n",
        "    # поэтому вызываем этот метод\n",
        "    # работает для скаляров\n",
        "    #\n",
        "    # для тензоров работает метод .tolist()\n",
        "    #\n",
        "    current_loss_value = loss.item()\n",
        "    losses.append(loss.item())"
      ]
    },
    {
      "cell_type": "code",
      "execution_count": null,
      "metadata": {
        "id": "KhopLN33N_Nw"
      },
      "outputs": [],
      "source": [
        "# Одна эпоха прошла"
      ]
    },
    {
      "cell_type": "code",
      "execution_count": null,
      "metadata": {
        "colab": {
          "base_uri": "https://localhost:8080/",
          "height": 235
        },
        "id": "SIGFnAeMN_Nz",
        "outputId": "e225e2b2-28dd-4ffa-d8b6-fd42ebca2e08"
      },
      "outputs": [
        {
          "data": {
            "image/png": "[encoded data removed]",
            "text/plain": [
              "<Figure size 1008x864 with 1 Axes>"
            ]
          },
          "metadata": {
            "needs_background": "light"
          },
          "output_type": "display_data"
        }
      ],
      "source": [
        "plt.figure(figsize=(14, 12))\n",
        "plt.plot(losses)\n",
        "plt.grid()\n",
        "plt.title('Training process')\n",
        "plt.xlabel('Iterations')\n",
        "plt.ylabel('Loss function');"
      ]
    },
    {
      "cell_type": "markdown",
      "metadata": {
        "id": "8oBFJlYrN_N3"
      },
      "source": [
        "# Теперь мы можем что-то предсказать"
      ]
    },
    {
      "cell_type": "code",
      "execution_count": null,
      "metadata": {
        "id": "pYQ-5cXnN_N4"
      },
      "outputs": [],
      "source": [
        "for x, y in test_loader:\n",
        "\n",
        "    x = x.view(x.shape[0], -1)\n",
        "    y = y.unsqueeze(1).float()\n",
        "\n",
        "    # чтобы не ходить по всему тестовому датасету, прекратим ходить после первой итерации\n",
        "    break"
      ]
    },
    {
      "cell_type": "code",
      "execution_count": null,
      "metadata": {
        "id": "Rb3ImXPNN_N_",
        "outputId": "a9ea50e8-2230-4b85-b1e2-d75408597581"
      },
      "outputs": [
        {
          "data": {
            "text/plain": [
              "torch.Size([128, 784])"
            ]
          },
          "execution_count": 44,
          "metadata": {},
          "output_type": "execute_result"
        }
      ],
      "source": [
        "x.shape"
      ]
    },
    {
      "cell_type": "code",
      "execution_count": null,
      "metadata": {
        "id": "5V_GO6_zN_OE",
        "outputId": "b12de3e1-6478-42b4-82a4-230411f251a6"
      },
      "outputs": [
        {
          "data": {
            "text/plain": [
              "torch.Size([128, 1])"
            ]
          },
          "execution_count": 45,
          "metadata": {},
          "output_type": "execute_result"
        }
      ],
      "source": [
        "y.shape"
      ]
    },
    {
      "cell_type": "code",
      "execution_count": null,
      "metadata": {
        "id": "_zHM8GRpN_OG",
        "outputId": "1526be79-e75b-4b8f-c7e0-771c0e7960ba"
      },
      "outputs": [
        {
          "data": {
            "text/plain": [
              "MLP(\n",
              "  (linear_1): Linear(in_features=784, out_features=256, bias=True)\n",
              "  (non_linear_function): ReLU()\n",
              "  (linear_2): Linear(in_features=256, out_features=1, bias=True)\n",
              "  (sigmoid): Sigmoid()\n",
              ")"
            ]
          },
          "execution_count": 46,
          "metadata": {},
          "output_type": "execute_result"
        }
      ],
      "source": [
        "# переходим в режим предсказания\n",
        "#\n",
        "# позже в курсе мы разберем зачем конкретно это нужно\n",
        "#\n",
        "# для искушенного нетерпеливого читателя: дропаут больше не дропаутит, батч норм больше не нормирует каждый батч\n",
        "# а использует накопленную статистику при обучении и тд\n",
        "#\n",
        "model.eval()"
      ]
    },
    {
      "cell_type": "code",
      "execution_count": null,
      "metadata": {
        "id": "CT4N0ZAPN_OI"
      },
      "outputs": [],
      "source": [
        "# этот контект позволяет не сохранять необходимую информацию для рассчета градиентов\n",
        "with torch.no_grad():\n",
        "\n",
        "    pred = model(x)"
      ]
    },
    {
      "cell_type": "code",
      "execution_count": null,
      "metadata": {
        "id": "R48ZI_iJN_OK",
        "outputId": "193d89f9-61e1-4a96-8445-7b47d57ff8d1"
      },
      "outputs": [
        {
          "data": {
            "text/plain": [
              "torch.Size([128, 1])"
            ]
          },
          "execution_count": 48,
          "metadata": {},
          "output_type": "execute_result"
        }
      ],
      "source": [
        "pred.shape"
      ]
    },
    {
      "cell_type": "code",
      "execution_count": null,
      "metadata": {
        "id": "Azbcidg1N_OM"
      },
      "outputs": [],
      "source": [
        "# избавимся от единичной размерности\n",
        "pred = pred.squeeze()\n",
        "y = y.squeeze()"
      ]
    },
    {
      "cell_type": "code",
      "execution_count": null,
      "metadata": {
        "id": "L7zm8vzBN_OO",
        "outputId": "67f0fe47-50f7-44c8-9148-701fdec25e1f"
      },
      "outputs": [
        {
          "data": {
            "text/plain": [
              "torch.Size([128])"
            ]
          },
          "execution_count": 50,
          "metadata": {},
          "output_type": "execute_result"
        }
      ],
      "source": [
        "pred.shape"
      ]
    },
    {
      "cell_type": "code",
      "execution_count": null,
      "metadata": {
        "id": "JBARJLDIN_OT"
      },
      "outputs": [],
      "source": [
        "# таким образом из торчовых тензоров мы можем сделать нумпаевские массивы\n",
        "pred = pred.numpy()\n",
        "y = y.numpy()"
      ]
    },
    {
      "cell_type": "code",
      "execution_count": null,
      "metadata": {
        "id": "8Y4gi0q7N_OZ",
        "outputId": "a170d0d4-c6a8-408e-c3bf-1148de786113"
      },
      "outputs": [
        {
          "data": {
            "text/plain": [
              "array([1., 1., 0., 1., 0., 0., 1., 1., 1., 0., 0., 1., 0., 1., 0., 1., 1.,\n",
              "       0., 1., 1., 1., 1., 0., 0., 0., 1., 1., 0., 1., 1., 1., 1., 1., 0.,\n",
              "       1., 0., 1., 0., 1., 0., 0., 0., 0., 0., 1., 1., 1., 0., 0., 1., 1.,\n",
              "       0., 1., 1., 1., 1., 0., 1., 1., 1., 0., 0., 0., 0., 1., 0., 0., 1.,\n",
              "       0., 0., 1., 0., 1., 0., 0., 1., 0., 0., 1., 1., 1., 1., 0., 1., 0.,\n",
              "       0., 0., 0., 0., 0., 1., 1., 0., 1., 0., 0., 0., 1., 0., 1., 0., 0.,\n",
              "       0., 0., 0., 1., 1., 1., 1., 0., 0., 0., 0., 0., 0., 1., 1., 0., 0.,\n",
              "       1., 0., 1., 1., 0., 1., 0., 0., 1.], dtype=float32)"
            ]
          },
          "execution_count": 52,
          "metadata": {},
          "output_type": "execute_result"
        }
      ],
      "source": [
        "y"
      ]
    },
    {
      "cell_type": "code",
      "execution_count": null,
      "metadata": {
        "id": "QPlZdMfiN_Og",
        "outputId": "3673c2d3-fffe-4112-97d7-a31c06691daa"
      },
      "outputs": [
        {
          "data": {
            "text/plain": [
              "numpy.ndarray"
            ]
          },
          "execution_count": 53,
          "metadata": {},
          "output_type": "execute_result"
        }
      ],
      "source": [
        "type(y)"
      ]
    },
    {
      "cell_type": "code",
      "execution_count": null,
      "metadata": {
        "id": "Ck7Voa7HN_Ok"
      },
      "outputs": [],
      "source": [
        "# бинаризируем наши предсказания\n",
        "pred[pred > 0.5] = 1\n",
        "pred[pred <= 0.5] = 0"
      ]
    },
    {
      "cell_type": "code",
      "execution_count": null,
      "metadata": {
        "id": "Ts85uzXFN_Om",
        "outputId": "62122006-ec73-4b48-ccb2-ca6ad01d42a2"
      },
      "outputs": [
        {
          "data": {
            "text/plain": [
              "0.9609375"
            ]
          },
          "execution_count": 55,
          "metadata": {},
          "output_type": "execute_result"
        }
      ],
      "source": [
        "# посчитаем метрику на батче\n",
        "accuracy_score(y, pred)"
      ]
    },
    {
      "cell_type": "code",
      "execution_count": null,
      "metadata": {
        "id": "yoynJ1-2N_Op"
      },
      "outputs": [],
      "source": [
        "# заново определим нашу модель и выучимся несколько эпох\n",
        "# будут уже новые параметры\n",
        "model = MLP(in_features=784, inner_features=256, out_features=1)\n",
        "\n",
        "criterion = torch.nn.BCELoss()\n",
        "# мы позже поговорим про этот оптимизационный алгоритм\n",
        "optimizer = torch.optim.Adam(params=model.parameters())"
      ]
    },
    {
      "cell_type": "markdown",
      "metadata": {
        "id": "hzBgaRe7N_Os"
      },
      "source": [
        "# Типичный цикл обучения с кучей сохранений лоссов"
      ]
    },
    {
      "cell_type": "code",
      "execution_count": null,
      "metadata": {
        "id": "1zO6ruQbN_Ot",
        "outputId": "7d4304f2-a0f5-4c08-bd00-098719fe4df9"
      },
      "outputs": [
        {
          "name": "stderr",
          "output_type": "stream",
          "text": [
            "Epoch 1: 100%|██████████| 12396/12396 [00:01<00:00, 8159.93it/s, train_loss=0.0689]\n",
            "Epoch 2:  11%|█▏        | 1408/12396 [00:00<00:01, 8393.82it/s, train_loss=0.0485]"
          ]
        },
        {
          "name": "stdout",
          "output_type": "stream",
          "text": [
            "Losses: train - 0.069, test = 0.050\n",
            "Test: accuracy - 0.983\n"
          ]
        },
        {
          "name": "stderr",
          "output_type": "stream",
          "text": [
            "Epoch 2: 100%|██████████| 12396/12396 [00:01<00:00, 8161.11it/s, train_loss=0.0294]\n",
            "Epoch 3:  11%|█▏        | 1408/12396 [00:00<00:01, 8255.42it/s, train_loss=0.027] "
          ]
        },
        {
          "name": "stdout",
          "output_type": "stream",
          "text": [
            "Losses: train - 0.029, test = 0.036\n",
            "Test: accuracy - 0.988\n"
          ]
        },
        {
          "name": "stderr",
          "output_type": "stream",
          "text": [
            "Epoch 3: 100%|██████████| 12396/12396 [00:01<00:00, 8213.71it/s, train_loss=0.0185]\n",
            "Epoch 4:  11%|█▏        | 1408/12396 [00:00<00:01, 8452.26it/s, train_loss=0.0182]"
          ]
        },
        {
          "name": "stdout",
          "output_type": "stream",
          "text": [
            "Losses: train - 0.019, test = 0.027\n",
            "Test: accuracy - 0.991\n"
          ]
        },
        {
          "name": "stderr",
          "output_type": "stream",
          "text": [
            "Epoch 4: 100%|██████████| 12396/12396 [00:01<00:00, 8154.70it/s, train_loss=0.0125]\n",
            "Epoch 5:  11%|█▏        | 1408/12396 [00:00<00:01, 8274.76it/s, train_loss=0.0121]"
          ]
        },
        {
          "name": "stdout",
          "output_type": "stream",
          "text": [
            "Losses: train - 0.012, test = 0.022\n",
            "Test: accuracy - 0.993\n"
          ]
        },
        {
          "name": "stderr",
          "output_type": "stream",
          "text": [
            "Epoch 5: 100%|██████████| 12396/12396 [00:01<00:00, 8180.74it/s, train_loss=0.00823]\n",
            "Epoch 6:  12%|█▏        | 1536/12396 [00:00<00:01, 8499.00it/s, train_loss=0.00734]"
          ]
        },
        {
          "name": "stdout",
          "output_type": "stream",
          "text": [
            "Losses: train - 0.008, test = 0.021\n",
            "Test: accuracy - 0.993\n"
          ]
        },
        {
          "name": "stderr",
          "output_type": "stream",
          "text": [
            "Epoch 6: 100%|██████████| 12396/12396 [00:01<00:00, 8087.49it/s, train_loss=0.00565]\n"
          ]
        },
        {
          "name": "stdout",
          "output_type": "stream",
          "text": [
            "Losses: train - 0.006, test = 0.025\n",
            "Test: accuracy - 0.993\n",
            "Early stopping\n"
          ]
        }
      ],
      "source": [
        "epochs = 10\n",
        "losses = []\n",
        "# нужно для early stopping, то есть трекать лучший лосс на валидации\n",
        "best_test_loss = 10.\n",
        "\n",
        "for n_epoch in range(epochs):\n",
        "\n",
        "    train_losses = []\n",
        "    test_losses = []\n",
        "    test_preds = []\n",
        "    test_targets = []\n",
        "\n",
        "    progress_bar = tqdm(total=len(train_loader.dataset), desc='Epoch {}'.format(n_epoch + 1))\n",
        "\n",
        "    for x, y in train_loader:\n",
        "\n",
        "        x = x.view(x.shape[0], -1)\n",
        "        y = y.unsqueeze(1).float()\n",
        "\n",
        "        optimizer.zero_grad()\n",
        "\n",
        "        pred = model(x)\n",
        "\n",
        "        loss = criterion(pred, y.float())\n",
        "\n",
        "        loss.backward()\n",
        "\n",
        "        optimizer.step()\n",
        "\n",
        "        train_losses.append(loss.item())\n",
        "        losses.append(loss.item())\n",
        "\n",
        "        progress_bar.set_postfix(train_loss = np.mean(losses[-100:]))\n",
        "\n",
        "        progress_bar.update(x.shape[0])\n",
        "\n",
        "    progress_bar.close()\n",
        "\n",
        "    for x, y in test_loader:\n",
        "\n",
        "        x = x.view(x.shape[0], -1)\n",
        "        y = y.unsqueeze(1).float()\n",
        "\n",
        "        with torch.no_grad():\n",
        "\n",
        "            pred = model(x)\n",
        "\n",
        "        test_preds.append(pred.numpy())\n",
        "        test_targets.append(y.numpy())\n",
        "\n",
        "        loss = criterion(pred, y)\n",
        "\n",
        "        test_losses.append(loss.item())\n",
        "\n",
        "    mean_test_loss = np.mean(test_losses)\n",
        "\n",
        "    print('Losses: train - {:.3f}, test = {:.3f}'.format(np.mean(train_losses), mean_test_loss))\n",
        "\n",
        "    test_preds = np.concatenate(test_preds)\n",
        "    test_preds = test_preds.squeeze()\n",
        "    test_targets = np.concatenate(test_targets).squeeze()\n",
        "\n",
        "    test_preds[test_preds > 0.5] = 1\n",
        "    test_preds[test_preds <= 0.5] = 0\n",
        "\n",
        "    accurary = accuracy_score(test_targets, test_preds)\n",
        "\n",
        "    print('Test: accuracy - {:.3f}'.format(accurary))\n",
        "\n",
        "    # как раз early stopping\n",
        "    # то есть: если наша функция потерь на валидационном датасете стала расти, то прекращаем обучение\n",
        "    # рост фунции потерь на валидационном датасете говорит о переобучении\n",
        "    # пожалуй, самый популярный метод валидации для нейронных сетей\n",
        "    if mean_test_loss < best_test_loss:\n",
        "        best_test_loss = mean_test_loss\n",
        "    else:\n",
        "        print('Early stopping')\n",
        "        break"
      ]
    },
    {
      "cell_type": "code",
      "execution_count": null,
      "metadata": {
        "id": "U4URcBJPN_Ow",
        "outputId": "c5b2dd03-5307-4d95-80e5-99a3b65a3f65"
      },
      "outputs": [
        {
          "data": {
            "image/png": "[encoded data removed]",
            "text/plain": [
              "<Figure size 1008x864 with 1 Axes>"
            ]
          },
          "metadata": {
            "needs_background": "light"
          },
          "output_type": "display_data"
        }
      ],
      "source": [
        "plt.figure(figsize=(14, 12))\n",
        "plt.plot(losses)\n",
        "plt.grid()\n",
        "plt.title('Training process')\n",
        "plt.xlabel('Iterations')\n",
        "plt.ylabel('Loss function');"
      ]
    },
    {
      "cell_type": "code",
      "execution_count": null,
      "metadata": {
        "id": "8zDXBUKjHtjW"
      },
      "outputs": [],
      "source": []
    }
  ],
  "metadata": {
    "accelerator": "GPU",
    "colab": {
      "provenance": [],
      "include_colab_link": true
    },
    "kernelspec": {
      "display_name": "Python 3",
      "language": "python",
      "name": "python3"
    },
    "language_info": {
      "codemirror_mode": {
        "name": "ipython",
        "version": 3
      },
      "file_extension": ".py",
      "mimetype": "text/x-python",
      "name": "python",
      "nbconvert_exporter": "python",
      "pygments_lexer": "ipython3",
      "version": "3.8.8"
    }
  },
  "nbformat": 4,
  "nbformat_minor": 0
}