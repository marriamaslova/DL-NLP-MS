{
  "cells": [
    {
      "cell_type": "markdown",
      "metadata": {
        "id": "view-in-github",
        "colab_type": "text"
      },
      "source": [
        "<a href=\"https://colab.research.google.com/github/marriamaslova/DL-NLP-MS/blob/main/Homework2_word2vec.ipynb\" target=\"_parent\"><img src=\"https://colab.research.google.com/assets/colab-badge.svg\" alt=\"Open In Colab\"/></a>"
      ]
    },
    {
      "cell_type": "code",
      "execution_count": null,
      "metadata": {
        "id": "CdExytVV9GJ_"
      },
      "outputs": [],
      "source": [
        "import json\n",
        "import random\n",
        "from tqdm import tqdm\n",
        "import numpy as np\n",
        "\n",
        "from matplotlib import pyplot as plt\n",
        "from sklearn.decomposition import TruncatedSVD\n",
        "from sklearn.manifold import TSNE\n",
        "\n",
        "import torch\n",
        "\n",
        "from pylab import rcParams\n",
        "rcParams['figure.figsize'] = 15, 15"
      ]
    },
    {
      "cell_type": "markdown",
      "metadata": {
        "id": "u85xdz6P9GKB"
      },
      "source": [
        "# Что делать?\n",
        "Где есть пометка # CODE писать код\n",
        "\n",
        "[Полезный туториал](http://jalammar.github.io/illustrated-word2vec/)"
      ]
    },
    {
      "cell_type": "markdown",
      "metadata": {
        "id": "7JwQL4yl9GKC"
      },
      "source": [
        "# Загружаем данные\n",
        "Они уже обработанные и токенизированные. Процесс можно посмотреть в тетрадке 1.1 Processing corpus"
      ]
    },
    {
      "cell_type": "code",
      "execution_count": null,
      "metadata": {
        "id": "TidpVWnC9GKC"
      },
      "outputs": [],
      "source": [
        "with open('processed_corpus.json') as f:\n",
        "    corpus = json.load(f)"
      ]
    },
    {
      "cell_type": "code",
      "execution_count": null,
      "metadata": {
        "id": "hZ9Q-mMR9GKD",
        "outputId": "857c6a5b-8d5c-4b43-aca2-3a9c4be4a329"
      },
      "outputs": [
        {
          "data": {
            "text/plain": [
              "100000"
            ]
          },
          "execution_count": 3,
          "metadata": {},
          "output_type": "execute_result"
        }
      ],
      "source": [
        "len(corpus)"
      ]
    },
    {
      "cell_type": "code",
      "execution_count": null,
      "metadata": {
        "id": "bsEGmS689GKD",
        "outputId": "737bf372-0e4e-4445-a5f0-ad3a02453aab"
      },
      "outputs": [
        {
          "name": "stdout",
          "output_type": "stream",
          "text": [
            "второй UNK год окончательно разочаровать решить податься альфабанк\n",
            "вернуть денежный средство лицевой счёт либо зачесть счёт погашение кредит\n",
            "притом ситуация решиться участие течение сутки заявить\n",
            "мой ##число летний жизнь это самый неповоротливый работник банк который видеть\n",
            "везде написать вклад принимать очередь это\n"
          ]
        }
      ],
      "source": [
        "for text in corpus[:5]:\n",
        "    print(' '.join(text))"
      ]
    },
    {
      "cell_type": "markdown",
      "metadata": {
        "id": "tGKeIHTF9GKE"
      },
      "source": [
        "# CBOW"
      ]
    },
    {
      "cell_type": "markdown",
      "metadata": {
        "id": "pJmAj2Ss9GKE"
      },
      "source": [
        "здесь я в качестве sample_text возьму пример который был в оригинальном блокнтое, поскольку его нет в файле processed_corpus"
      ]
    },
    {
      "cell_type": "code",
      "execution_count": null,
      "metadata": {
        "id": "Z6ykioF29GKE"
      },
      "outputs": [],
      "source": [
        "sample_string = 'вопрос почему например китайский японский UNK'"
      ]
    },
    {
      "cell_type": "code",
      "execution_count": null,
      "metadata": {
        "id": "Q73Guhcx9GKE"
      },
      "outputs": [],
      "source": [
        "sample_text = sample_string.split()"
      ]
    },
    {
      "cell_type": "code",
      "execution_count": null,
      "metadata": {
        "id": "m1GTWoyM9GKE"
      },
      "outputs": [],
      "source": [
        "# sample_text = corpus[1]"
      ]
    },
    {
      "cell_type": "code",
      "execution_count": null,
      "metadata": {
        "id": "bzYrdYWR9GKE",
        "outputId": "8b2fdad0-3758-4096-f34a-91203fa072f3"
      },
      "outputs": [
        {
          "data": {
            "text/plain": [
              "'вопрос почему например китайский японский UNK'"
            ]
          },
          "execution_count": 8,
          "metadata": {},
          "output_type": "execute_result"
        }
      ],
      "source": [
        "' '.join(sample_text)"
      ]
    },
    {
      "cell_type": "markdown",
      "metadata": {
        "id": "_ay9uK0Z9GKE"
      },
      "source": [
        "# Реализуйте разделение предложения на примеры методом CBOW"
      ]
    },
    {
      "cell_type": "code",
      "execution_count": null,
      "metadata": {
        "id": "9zAZHdoz9GKF"
      },
      "outputs": [],
      "source": [
        "def cbow_split(tokens, window, pad_token='PAD'):\n",
        "    splits = []\n",
        "\n",
        "    # Добавление паддинга к предложению\n",
        "    padded_tokens = [pad_token] * window + tokens + [pad_token] * window\n",
        "\n",
        "    # Создание примеров CBOW\n",
        "    for i in range(window, len(tokens) + window):\n",
        "        left_context = padded_tokens[i - window:i]\n",
        "        central_word = padded_tokens[i]\n",
        "        right_context = padded_tokens[i + 1:i + window + 1]\n",
        "\n",
        "        splits.append((left_context, central_word, right_context))\n",
        "\n",
        "    return splits"
      ]
    },
    {
      "cell_type": "code",
      "execution_count": null,
      "metadata": {
        "id": "oqyZ0kNE9GKF"
      },
      "outputs": [],
      "source": [
        "splits = cbow_split(sample_text, window=2)"
      ]
    },
    {
      "cell_type": "code",
      "execution_count": null,
      "metadata": {
        "id": "BctlV5lp9GKF",
        "outputId": "67ea8838-581e-42bf-c158-633795c53f9a"
      },
      "outputs": [
        {
          "name": "stdout",
          "output_type": "stream",
          "text": [
            "Левый контекст: ['PAD', 'PAD']\n",
            "Центральное слово: вопрос\n",
            "Правый контекст: ['почему', 'например']\n",
            "\n",
            "Левый контекст: ['PAD', 'вопрос']\n",
            "Центральное слово: почему\n",
            "Правый контекст: ['например', 'китайский']\n",
            "\n",
            "Левый контекст: ['вопрос', 'почему']\n",
            "Центральное слово: например\n",
            "Правый контекст: ['китайский', 'японский']\n",
            "\n",
            "Левый контекст: ['почему', 'например']\n",
            "Центральное слово: китайский\n",
            "Правый контекст: ['японский', 'UNK']\n",
            "\n",
            "Левый контекст: ['например', 'китайский']\n",
            "Центральное слово: японский\n",
            "Правый контекст: ['UNK', 'PAD']\n",
            "\n",
            "Левый контекст: ['китайский', 'японский']\n",
            "Центральное слово: UNK\n",
            "Правый контекст: ['PAD', 'PAD']\n",
            "\n"
          ]
        }
      ],
      "source": [
        "for sample in splits:\n",
        "    print('Левый контекст:', sample[0])\n",
        "    print('Центральное слово:', sample[1])\n",
        "    print('Правый контекст:', sample[2], end='\\n\\n')"
      ]
    },
    {
      "cell_type": "code",
      "execution_count": null,
      "metadata": {
        "id": "d7Be2Kcd9GKF",
        "outputId": "3e870364-61fd-4331-ba46-ab0a46642a54"
      },
      "outputs": [
        {
          "data": {
            "text/plain": [
              "[(['PAD', 'PAD'], 'вопрос', ['почему', 'например']),\n",
              " (['PAD', 'вопрос'], 'почему', ['например', 'китайский']),\n",
              " (['вопрос', 'почему'], 'например', ['китайский', 'японский']),\n",
              " (['почему', 'например'], 'китайский', ['японский', 'UNK']),\n",
              " (['например', 'китайский'], 'японский', ['UNK', 'PAD']),\n",
              " (['китайский', 'японский'], 'UNK', ['PAD', 'PAD'])]"
            ]
          },
          "execution_count": 12,
          "metadata": {},
          "output_type": "execute_result"
        }
      ],
      "source": [
        "splits"
      ]
    },
    {
      "cell_type": "markdown",
      "metadata": {
        "id": "BnwZONw89GKF"
      },
      "source": [
        "# Expected\n",
        "\n",
        "```python\n",
        "[(['PAD', 'PAD'], 'вопрос', ['почему', 'например']),\n",
        " (['PAD', 'вопрос'], 'почему', ['например', 'китайский']),\n",
        " (['вопрос', 'почему'], 'например', ['китайский', 'японский']),\n",
        " (['почему', 'например'], 'китайский', ['японский', 'UNK']),\n",
        " (['например', 'китайский'], 'японский', ['UNK', 'PAD']),\n",
        " (['китайский', 'японский'], 'UNK', ['PAD', 'PAD'])]\n",
        "```"
      ]
    },
    {
      "cell_type": "code",
      "execution_count": null,
      "metadata": {
        "id": "SQD26tfs9GKG",
        "outputId": "a59be7de-d1bd-4e16-a792-ee101dbf9b17"
      },
      "outputs": [
        {
          "data": {
            "text/plain": [
              "[(['PAD', 'PAD', 'PAD'], 'вопрос', ['почему', 'например', 'китайский']),\n",
              " (['PAD', 'PAD', 'вопрос'], 'почему', ['например', 'китайский', 'японский']),\n",
              " (['PAD', 'вопрос', 'почему'], 'например', ['китайский', 'японский', 'UNK']),\n",
              " (['вопрос', 'почему', 'например'], 'китайский', ['японский', 'UNK', 'PAD']),\n",
              " (['почему', 'например', 'китайский'], 'японский', ['UNK', 'PAD', 'PAD']),\n",
              " (['например', 'китайский', 'японский'], 'UNK', ['PAD', 'PAD', 'PAD'])]"
            ]
          },
          "execution_count": 13,
          "metadata": {},
          "output_type": "execute_result"
        }
      ],
      "source": [
        "cbow_split(sample_text, window=3)"
      ]
    },
    {
      "cell_type": "markdown",
      "metadata": {
        "id": "901iOf6j9GKG"
      },
      "source": [
        "# Expected\n",
        "\n",
        "```python\n",
        "[(['PAD', 'PAD', 'PAD'], 'вопрос', ['почему', 'например', 'китайский']),\n",
        " (['PAD', 'PAD', 'вопрос'], 'почему', ['например', 'китайский', 'японский']),\n",
        " (['PAD', 'вопрос', 'почему'], 'например', ['китайский', 'японский', 'UNK']),\n",
        " (['вопрос', 'почему', 'например'], 'китайский', ['японский', 'UNK', 'PAD']),\n",
        " (['почему', 'например', 'китайский'], 'японский', ['UNK', 'PAD', 'PAD']),\n",
        " (['например', 'китайский', 'японский'], 'UNK', ['PAD', 'PAD', 'PAD'])]\n",
        "```"
      ]
    },
    {
      "cell_type": "markdown",
      "metadata": {
        "id": "GmK-axJi9GKG"
      },
      "source": [
        "все ОК, функция работает как и должна работать в примере"
      ]
    },
    {
      "cell_type": "markdown",
      "metadata": {
        "id": "YuMEGLWl9GKG"
      },
      "source": [
        "# Skipgram"
      ]
    },
    {
      "cell_type": "code",
      "execution_count": null,
      "metadata": {
        "id": "sNaaDuqX9GKG",
        "outputId": "d7b6ac5e-6582-42c2-c84e-69ba815525fc"
      },
      "outputs": [
        {
          "data": {
            "text/plain": [
              "'вопрос почему например китайский японский UNK'"
            ]
          },
          "execution_count": 14,
          "metadata": {},
          "output_type": "execute_result"
        }
      ],
      "source": [
        "' '.join(sample_text)"
      ]
    },
    {
      "cell_type": "markdown",
      "metadata": {
        "id": "WaYS_ehR9GKG"
      },
      "source": [
        "# Реализуйте разделение предложения на примеры методом Skipgram"
      ]
    },
    {
      "cell_type": "code",
      "execution_count": null,
      "metadata": {
        "id": "0r_AEPbS9GKG"
      },
      "outputs": [],
      "source": [
        "def skipgram_split(tokens, window):\n",
        "    combinations = []\n",
        "\n",
        "    for i, central_word in enumerate(tokens):\n",
        "        context = tokens[max(0, i - window):i] + tokens[i + 1:i + window + 1]\n",
        "\n",
        "        # Пропуск центрального слова, если окно меньше длины предложения\n",
        "        if context:\n",
        "            for context_word in context:\n",
        "                combinations.append((context_word, central_word))\n",
        "\n",
        "    return combinations"
      ]
    },
    {
      "cell_type": "code",
      "execution_count": null,
      "metadata": {
        "id": "kDU3D9wE9GKG"
      },
      "outputs": [],
      "source": [
        "splits = skipgram_split(sample_text, window=2)"
      ]
    },
    {
      "cell_type": "code",
      "execution_count": null,
      "metadata": {
        "id": "__nqrh429GKG",
        "outputId": "073fc222-7b70-48af-8767-e7886aee21f4"
      },
      "outputs": [
        {
          "name": "stdout",
          "output_type": "stream",
          "text": [
            "Контекст: почему\n",
            "Центральное слово: вопрос\n",
            "\n",
            "Контекст: например\n",
            "Центральное слово: вопрос\n",
            "\n",
            "Контекст: вопрос\n",
            "Центральное слово: почему\n",
            "\n",
            "Контекст: например\n",
            "Центральное слово: почему\n",
            "\n",
            "Контекст: китайский\n",
            "Центральное слово: почему\n",
            "\n",
            "Контекст: вопрос\n",
            "Центральное слово: например\n",
            "\n",
            "Контекст: почему\n",
            "Центральное слово: например\n",
            "\n",
            "Контекст: китайский\n",
            "Центральное слово: например\n",
            "\n",
            "Контекст: японский\n",
            "Центральное слово: например\n",
            "\n",
            "Контекст: почему\n",
            "Центральное слово: китайский\n",
            "\n",
            "Контекст: например\n",
            "Центральное слово: китайский\n",
            "\n",
            "Контекст: японский\n",
            "Центральное слово: китайский\n",
            "\n",
            "Контекст: UNK\n",
            "Центральное слово: китайский\n",
            "\n",
            "Контекст: например\n",
            "Центральное слово: японский\n",
            "\n",
            "Контекст: китайский\n",
            "Центральное слово: японский\n",
            "\n",
            "Контекст: UNK\n",
            "Центральное слово: японский\n",
            "\n",
            "Контекст: китайский\n",
            "Центральное слово: UNK\n",
            "\n",
            "Контекст: японский\n",
            "Центральное слово: UNK\n",
            "\n"
          ]
        }
      ],
      "source": [
        "for sample in splits:\n",
        "    print('Контекст:', sample[0])\n",
        "    print('Центральное слово:', sample[1], end='\\n\\n')"
      ]
    },
    {
      "cell_type": "code",
      "execution_count": null,
      "metadata": {
        "id": "-80GIfnb9GKH",
        "outputId": "5c35a2b9-d811-4d6a-bec0-df431db1b9dc"
      },
      "outputs": [
        {
          "data": {
            "text/plain": [
              "[('почему', 'вопрос'),\n",
              " ('например', 'вопрос'),\n",
              " ('вопрос', 'почему'),\n",
              " ('например', 'почему'),\n",
              " ('китайский', 'почему'),\n",
              " ('вопрос', 'например'),\n",
              " ('почему', 'например'),\n",
              " ('китайский', 'например'),\n",
              " ('японский', 'например'),\n",
              " ('почему', 'китайский'),\n",
              " ('например', 'китайский'),\n",
              " ('японский', 'китайский'),\n",
              " ('UNK', 'китайский'),\n",
              " ('например', 'японский'),\n",
              " ('китайский', 'японский'),\n",
              " ('UNK', 'японский'),\n",
              " ('китайский', 'UNK'),\n",
              " ('японский', 'UNK')]"
            ]
          },
          "execution_count": 18,
          "metadata": {},
          "output_type": "execute_result"
        }
      ],
      "source": [
        "skipgram_split(sample_text, window=2)"
      ]
    },
    {
      "cell_type": "markdown",
      "metadata": {
        "id": "vuGyscgR9GKH"
      },
      "source": [
        "# Expected\n",
        "\n",
        "```python\n",
        "[('почему', 'вопрос'),\n",
        " ('например', 'вопрос'),\n",
        " ('вопрос', 'почему'),\n",
        " ('например', 'почему'),\n",
        " ('китайский', 'почему'),\n",
        " ('вопрос', 'например'),\n",
        " ('почему', 'например'),\n",
        " ('китайский', 'например'),\n",
        " ('японский', 'например'),\n",
        " ('почему', 'китайский'),\n",
        " ('например', 'китайский'),\n",
        " ('японский', 'китайский'),\n",
        " ('UNK', 'китайский'),\n",
        " ('например', 'японский'),\n",
        " ('китайский', 'японский'),\n",
        " ('UNK', 'японский'),\n",
        " ('китайский', 'UNK'),\n",
        " ('японский', 'UNK')]\n",
        "```"
      ]
    },
    {
      "cell_type": "code",
      "execution_count": null,
      "metadata": {
        "id": "lT5Fyv6e9GKH",
        "outputId": "3be715f7-a529-40fe-86f3-71417ddbffc9"
      },
      "outputs": [
        {
          "data": {
            "text/plain": [
              "[('почему', 'вопрос'),\n",
              " ('например', 'вопрос'),\n",
              " ('китайский', 'вопрос'),\n",
              " ('вопрос', 'почему'),\n",
              " ('например', 'почему'),\n",
              " ('китайский', 'почему'),\n",
              " ('японский', 'почему'),\n",
              " ('вопрос', 'например'),\n",
              " ('почему', 'например'),\n",
              " ('китайский', 'например'),\n",
              " ('японский', 'например'),\n",
              " ('UNK', 'например'),\n",
              " ('вопрос', 'китайский'),\n",
              " ('почему', 'китайский'),\n",
              " ('например', 'китайский'),\n",
              " ('японский', 'китайский'),\n",
              " ('UNK', 'китайский'),\n",
              " ('почему', 'японский'),\n",
              " ('например', 'японский'),\n",
              " ('китайский', 'японский'),\n",
              " ('UNK', 'японский'),\n",
              " ('например', 'UNK'),\n",
              " ('китайский', 'UNK'),\n",
              " ('японский', 'UNK')]"
            ]
          },
          "execution_count": 19,
          "metadata": {},
          "output_type": "execute_result"
        }
      ],
      "source": [
        "skipgram_split(sample_text, window=3)"
      ]
    },
    {
      "cell_type": "markdown",
      "metadata": {
        "id": "1KCJ4bOr9GKH"
      },
      "source": [
        "# Expected\n",
        "\n",
        "```python\n",
        "[('почему', 'вопрос'),\n",
        " ('например', 'вопрос'),\n",
        " ('китайский', 'вопрос'),\n",
        " ('вопрос', 'почему'),\n",
        " ('например', 'почему'),\n",
        " ('китайский', 'почему'),\n",
        " ('японский', 'почему'),\n",
        " ('вопрос', 'например'),\n",
        " ('почему', 'например'),\n",
        " ('китайский', 'например'),\n",
        " ('японский', 'например'),\n",
        " ('UNK', 'например'),\n",
        " ('вопрос', 'китайский'),\n",
        " ('почему', 'китайский'),\n",
        " ('например', 'китайский'),\n",
        " ('японский', 'китайский'),\n",
        " ('UNK', 'китайский'),\n",
        " ('почему', 'японский'),\n",
        " ('например', 'японский'),\n",
        " ('китайский', 'японский'),\n",
        " ('UNK', 'японский'),\n",
        " ('например', 'UNK'),\n",
        " ('китайский', 'UNK'),\n",
        " ('японский', 'UNK')]\n",
        "```"
      ]
    },
    {
      "cell_type": "markdown",
      "metadata": {
        "id": "SH_dadke9GKH"
      },
      "source": [
        "и с этой функций все тоже ОК!"
      ]
    },
    {
      "cell_type": "code",
      "execution_count": null,
      "metadata": {
        "id": "yxJOngFi9GKH"
      },
      "outputs": [],
      "source": [
        "word2index = {}\n",
        "\n",
        "for text in corpus:\n",
        "    for token in text:\n",
        "        if token not in word2index:\n",
        "            word2index[token] = len(word2index)"
      ]
    },
    {
      "cell_type": "code",
      "execution_count": null,
      "metadata": {
        "id": "sJ_rCkL_9GKH",
        "outputId": "1312964d-9102-41cb-e895-b2931c7287fe"
      },
      "outputs": [
        {
          "data": {
            "text/plain": [
              "13076"
            ]
          },
          "execution_count": 21,
          "metadata": {},
          "output_type": "execute_result"
        }
      ],
      "source": [
        "len(word2index)"
      ]
    },
    {
      "cell_type": "code",
      "execution_count": null,
      "metadata": {
        "id": "w_9aMVlJ9GKI",
        "outputId": "c2931a8d-442a-4973-8f35-cf7b7be2baaa"
      },
      "outputs": [
        {
          "data": {
            "text/plain": [
              "1"
            ]
          },
          "execution_count": 22,
          "metadata": {},
          "output_type": "execute_result"
        }
      ],
      "source": [
        "word2index['UNK']"
      ]
    },
    {
      "cell_type": "code",
      "execution_count": null,
      "metadata": {
        "id": "yi2VgVyM9GKI",
        "outputId": "4d40586a-623b-404c-b159-e5ed1b2da80f"
      },
      "outputs": [
        {
          "data": {
            "text/plain": [
              "[1282, 8436, 1]"
            ]
          },
          "execution_count": 23,
          "metadata": {},
          "output_type": "execute_result"
        }
      ],
      "source": [
        "[word2index[tok] if tok in word2index else word2index['UNK'] for tok in 'мама мыть рама'.split()]"
      ]
    },
    {
      "cell_type": "code",
      "execution_count": null,
      "metadata": {
        "id": "bKnpBeTc9GKI",
        "outputId": "d6bf898e-0d0d-404c-ac18-d6ed1616d65a"
      },
      "outputs": [
        {
          "data": {
            "text/plain": [
              "1282"
            ]
          },
          "execution_count": 24,
          "metadata": {},
          "output_type": "execute_result"
        }
      ],
      "source": [
        "word2index['мама']"
      ]
    },
    {
      "cell_type": "code",
      "execution_count": null,
      "metadata": {
        "id": "Luc593Nc9GKI",
        "outputId": "1024d983-cf75-4508-8a54-8aa9a6fe4aec"
      },
      "outputs": [
        {
          "data": {
            "text/plain": [
              "8436"
            ]
          },
          "execution_count": 25,
          "metadata": {},
          "output_type": "execute_result"
        }
      ],
      "source": [
        "word2index['мыть']"
      ]
    },
    {
      "cell_type": "code",
      "execution_count": null,
      "metadata": {
        "id": "qblXn0pT9GKI",
        "outputId": "f9d1116c-6d2c-4428-f518-79960c4d22a4"
      },
      "outputs": [
        {
          "ename": "KeyError",
          "evalue": "'рама'",
          "output_type": "error",
          "traceback": [
            "\u001b[0;31m---------------------------------------------------------------------------\u001b[0m",
            "\u001b[0;31mKeyError\u001b[0m                                  Traceback (most recent call last)",
            "Cell \u001b[0;32mIn[26], line 1\u001b[0m\n\u001b[0;32m----> 1\u001b[0m \u001b[43mword2index\u001b[49m\u001b[43m[\u001b[49m\u001b[38;5;124;43m'\u001b[39;49m\u001b[38;5;124;43mрама\u001b[39;49m\u001b[38;5;124;43m'\u001b[39;49m\u001b[43m]\u001b[49m\n",
            "\u001b[0;31mKeyError\u001b[0m: 'рама'"
          ]
        }
      ],
      "source": [
        "word2index['рама']"
      ]
    },
    {
      "cell_type": "markdown",
      "metadata": {
        "id": "Btg6VTwR9GKL"
      },
      "source": [
        "все работает как нужно"
      ]
    },
    {
      "cell_type": "markdown",
      "metadata": {
        "id": "jHTEEglY9GKM"
      },
      "source": [
        "# Torch Dataset\n",
        "В торче есть очень удобная читалка данных"
      ]
    },
    {
      "cell_type": "code",
      "execution_count": null,
      "metadata": {
        "id": "m9hs5MmF9GKM"
      },
      "outputs": [],
      "source": [
        "from torch.utils.data import Dataset, DataLoader"
      ]
    },
    {
      "cell_type": "code",
      "execution_count": null,
      "metadata": {
        "id": "h3gJ9xCl9GKM"
      },
      "outputs": [],
      "source": [
        "# игрушечный датасет\n",
        "# 121535 примера, 4 фичи, 3 класса\n",
        "some_data_x = np.random.rand(121535, 4)\n",
        "some_data_y = np.random.randint(3, size=(121535,))"
      ]
    },
    {
      "cell_type": "code",
      "execution_count": null,
      "metadata": {
        "id": "eDx_Vasq9GKM",
        "outputId": "6b0bf1e5-ace8-4374-85fd-1b170fa08c0e"
      },
      "outputs": [
        {
          "data": {
            "text/plain": [
              "array([[0.42243875, 0.3481138 , 0.07764146, 0.31837627],\n",
              "       [0.57427272, 0.84584989, 0.73083964, 0.06258062],\n",
              "       [0.15991503, 0.24795685, 0.95278777, 0.13819613],\n",
              "       [0.02284906, 0.01535866, 0.72162371, 0.82829307],\n",
              "       [0.10858419, 0.50987106, 0.19626808, 0.43127971],\n",
              "       [0.60746532, 0.14543198, 0.65182643, 0.8106798 ],\n",
              "       [0.42754139, 0.58470381, 0.04544281, 0.97305835],\n",
              "       [0.6646015 , 0.49535135, 0.16845853, 0.88617953],\n",
              "       [0.46848547, 0.51256632, 0.46320211, 0.45993959],\n",
              "       [0.81604332, 0.0860917 , 0.13693794, 0.27580628]])"
            ]
          },
          "execution_count": 29,
          "metadata": {},
          "output_type": "execute_result"
        }
      ],
      "source": [
        "# соверешенно игрушечный, просто цифры\n",
        "some_data_x[:10]"
      ]
    },
    {
      "cell_type": "code",
      "execution_count": null,
      "metadata": {
        "id": "tOcHvyOv9GKM",
        "outputId": "c3c00af4-687b-42cf-bc64-f622b946a1b9"
      },
      "outputs": [
        {
          "data": {
            "text/plain": [
              "array([2, 2, 0, ..., 2, 1, 2])"
            ]
          },
          "execution_count": 30,
          "metadata": {},
          "output_type": "execute_result"
        }
      ],
      "source": [
        "some_data_y"
      ]
    },
    {
      "cell_type": "code",
      "execution_count": null,
      "metadata": {
        "id": "5iauqh-69GKM"
      },
      "outputs": [],
      "source": [
        "class ToyDataset(Dataset):\n",
        "\n",
        "    def __init__(self, data_x, data_y):\n",
        "\n",
        "        super().__init__()\n",
        "\n",
        "        self.data_x = data_x\n",
        "        self.data_y = data_y\n",
        "\n",
        "    def __len__(self):\n",
        "\n",
        "        # Нужно обязательно определить эту функцию\n",
        "        # Должна возвращать размер датасета\n",
        "\n",
        "        return len(self.data_x)\n",
        "\n",
        "    def __getitem__(self, idx):\n",
        "\n",
        "        # Еще нужно определить этот метод\n",
        "        # То есть как мы будем доставать наши данные по индексу\n",
        "\n",
        "        return self.data_x[idx], self.data_y[idx]"
      ]
    },
    {
      "cell_type": "code",
      "execution_count": null,
      "metadata": {
        "id": "YhaE63Eg9GKM"
      },
      "outputs": [],
      "source": [
        "some_dataset = ToyDataset(some_data_x, some_data_y)"
      ]
    },
    {
      "cell_type": "code",
      "execution_count": null,
      "metadata": {
        "id": "bGPQvJWN9GKN",
        "outputId": "fc92477d-2f12-4aa6-e4b2-6cf20de99ef3"
      },
      "outputs": [
        {
          "data": {
            "text/plain": [
              "((array([0.60746532, 0.14543198, 0.65182643, 0.8106798 ]), 0),\n",
              " (array([0.64860143, 0.26492627, 0.16341116, 0.14045171]), 2))"
            ]
          },
          "execution_count": 33,
          "metadata": {},
          "output_type": "execute_result"
        }
      ],
      "source": [
        "some_dataset[5], some_dataset[467]"
      ]
    },
    {
      "cell_type": "code",
      "execution_count": null,
      "metadata": {
        "id": "ngfNQ_dQ9GKN"
      },
      "outputs": [],
      "source": [
        "some_loader = DataLoader(some_dataset, batch_size=16, shuffle=True)"
      ]
    },
    {
      "cell_type": "code",
      "execution_count": null,
      "metadata": {
        "id": "vwHUV11u9GKN",
        "outputId": "c37f4474-369a-4a05-cf61-89657353c178"
      },
      "outputs": [
        {
          "data": {
            "text/plain": [
              "(16,\n",
              " tensor([[0.2885, 0.6688, 0.7926, 0.0760],\n",
              "         [0.8396, 0.8808, 0.6020, 0.3558],\n",
              "         [0.3526, 0.2094, 0.8578, 0.1085],\n",
              "         [0.7382, 0.4996, 0.7609, 0.4446],\n",
              "         [0.4382, 0.6965, 0.8837, 0.0776],\n",
              "         [0.2201, 0.6367, 0.1985, 0.4433],\n",
              "         [0.6075, 0.2269, 0.3712, 0.0795],\n",
              "         [0.5623, 0.4688, 0.7497, 0.0886],\n",
              "         [0.6672, 0.5993, 0.7138, 0.3678],\n",
              "         [0.1160, 0.9422, 0.1657, 0.8788],\n",
              "         [0.1861, 0.6394, 0.4180, 0.4300],\n",
              "         [0.6986, 0.0912, 0.6988, 0.6012],\n",
              "         [0.8017, 0.5216, 0.0811, 0.2940],\n",
              "         [0.2886, 0.6723, 0.2755, 0.5272],\n",
              "         [0.8669, 0.0209, 0.2568, 0.1341],\n",
              "         [0.4078, 0.6380, 0.3888, 0.7900]], dtype=torch.float64))"
            ]
          },
          "execution_count": 35,
          "metadata": {},
          "output_type": "execute_result"
        }
      ],
      "source": [
        "for x, y in some_loader:\n",
        "    break\n",
        "\n",
        "len(x), x"
      ]
    },
    {
      "cell_type": "code",
      "execution_count": null,
      "metadata": {
        "id": "vJtqz2OU9GKN",
        "outputId": "3c14641e-a8c7-45b1-c4b6-2e766d12560b"
      },
      "outputs": [
        {
          "data": {
            "text/plain": [
              "15"
            ]
          },
          "execution_count": 36,
          "metadata": {},
          "output_type": "execute_result"
        }
      ],
      "source": [
        "for x, y in some_loader:\n",
        "    pass\n",
        "\n",
        "len(x)"
      ]
    },
    {
      "cell_type": "code",
      "execution_count": null,
      "metadata": {
        "id": "WVHrm0IL9GKN",
        "outputId": "7796dd6b-99df-40dd-e2ee-ac8755e1a058"
      },
      "outputs": [
        {
          "data": {
            "text/plain": [
              "15"
            ]
          },
          "execution_count": 37,
          "metadata": {},
          "output_type": "execute_result"
        }
      ],
      "source": [
        "# почему 15?\n",
        "# потому что количество наших данных нацело не делится на 16\n",
        "# и поэтому последний батч меньше 16-ти\n",
        "len(some_dataset) % 16"
      ]
    },
    {
      "cell_type": "markdown",
      "metadata": {
        "id": "wMTUJAep9GKN"
      },
      "source": [
        "# А зачем?"
      ]
    },
    {
      "cell_type": "code",
      "execution_count": null,
      "metadata": {
        "id": "2cgzaDvb9GKN"
      },
      "outputs": [],
      "source": [
        "class ToyDataset(Dataset):\n",
        "\n",
        "    def __init__(self, data_x, data_y):\n",
        "\n",
        "        super().__init__()\n",
        "\n",
        "        self.data_x = data_x\n",
        "        self.data_y = data_y\n",
        "\n",
        "    def __len__(self):\n",
        "\n",
        "        # Нужно обязательно определить эту функцию\n",
        "        # Должна возвращать размер датасета\n",
        "\n",
        "        return len(self.data_x)\n",
        "\n",
        "    @staticmethod\n",
        "    def add_pow_features(x, n=2):\n",
        "\n",
        "        return np.concatenate([x, x ** n])\n",
        "\n",
        "    @staticmethod\n",
        "    def add_log_features(x):\n",
        "\n",
        "        return np.concatenate([x, np.log(x)])\n",
        "\n",
        "    def __getitem__(self, idx):\n",
        "\n",
        "        # Еще нужно определить этот метод\n",
        "        # То есть как мы будем доставать наши данные по индексу\n",
        "\n",
        "        x = self.data_x[idx]\n",
        "\n",
        "        # внутри датасета мы можем делать все что угодно с нашими данными\n",
        "        # например выше определим функции, которые добавляют степенные фичи\n",
        "        x = self.add_pow_features(x, n=2)\n",
        "        x = self.add_pow_features(x, n=3)\n",
        "        # и еще возьмем логарифмические фичи\n",
        "        x = self.add_log_features(x)\n",
        "\n",
        "        y = self.data_y[idx]\n",
        "\n",
        "        return x, y"
      ]
    },
    {
      "cell_type": "code",
      "execution_count": null,
      "metadata": {
        "id": "yi20x2sq9GKO"
      },
      "outputs": [],
      "source": [
        "toy_dataset = ToyDataset(some_data_x, some_data_y)"
      ]
    },
    {
      "cell_type": "code",
      "execution_count": null,
      "metadata": {
        "id": "H2Io0Bet9GKO"
      },
      "outputs": [],
      "source": [
        "toy_loader = DataLoader(dataset=toy_dataset, batch_size=128)"
      ]
    },
    {
      "cell_type": "code",
      "execution_count": null,
      "metadata": {
        "id": "pam_aE529GKO"
      },
      "outputs": [],
      "source": [
        "for x, y in toy_loader:\n",
        "    break"
      ]
    },
    {
      "cell_type": "code",
      "execution_count": null,
      "metadata": {
        "id": "T7E6Du6j9GKO",
        "outputId": "43b9edbb-9028-4215-e9e1-9c4db8cc987e"
      },
      "outputs": [
        {
          "data": {
            "text/plain": [
              "torch.Size([128, 32])"
            ]
          },
          "execution_count": 42,
          "metadata": {},
          "output_type": "execute_result"
        }
      ],
      "source": [
        "x.shape"
      ]
    },
    {
      "cell_type": "code",
      "execution_count": null,
      "metadata": {
        "id": "G5ZhBLIN9GKO",
        "outputId": "d80fc5a0-81f2-4b17-b21c-13dd2f73634c"
      },
      "outputs": [
        {
          "data": {
            "text/plain": [
              "tensor([[  0.4224,   0.3481,   0.0776,  ...,  -6.3314, -15.3339,  -6.8671],\n",
              "        [  0.5743,   0.8458,   0.7308,  ...,  -1.0045,  -1.8814, -16.6278],\n",
              "        [  0.1599,   0.2480,   0.9528,  ...,  -8.3670,  -0.2902, -11.8745],\n",
              "        ...,\n",
              "        [  0.2780,   0.9210,   0.1019,  ...,  -0.4935, -13.7029,  -4.3593],\n",
              "        [  0.9963,   0.2235,   0.6431,  ...,  -8.9913,  -2.6483,  -2.7432],\n",
              "        [  0.9333,   0.4992,   0.9858,  ...,  -4.1683,  -0.0856, -28.8796]],\n",
              "       dtype=torch.float64)"
            ]
          },
          "execution_count": 43,
          "metadata": {},
          "output_type": "execute_result"
        }
      ],
      "source": [
        "# заметим, что мы сразу получаем торчовый формат данных\n",
        "x"
      ]
    },
    {
      "cell_type": "code",
      "execution_count": null,
      "metadata": {
        "id": "LibK-cum9GKO",
        "outputId": "d2b8a8e8-bd8e-4d33-d2ed-4365aef72bee"
      },
      "outputs": [
        {
          "data": {
            "text/plain": [
              "tensor([2, 2, 0, 2, 1, 0, 1, 1, 1, 1, 2, 1, 0, 1, 0, 0, 0, 2, 0, 1, 2, 0, 1, 1,\n",
              "        2, 1, 0, 1, 1, 2, 0, 1, 0, 2, 0, 1, 2, 0, 0, 0, 2, 2, 0, 1, 1, 0, 2, 1,\n",
              "        1, 0, 1, 2, 1, 0, 2, 0, 0, 1, 2, 1, 2, 1, 2, 2, 0, 1, 0, 1, 2, 2, 1, 2,\n",
              "        0, 1, 0, 1, 2, 2, 1, 0, 0, 2, 1, 0, 0, 2, 0, 1, 2, 2, 0, 1, 2, 1, 1, 0,\n",
              "        2, 1, 2, 1, 0, 2, 1, 2, 0, 2, 0, 2, 0, 2, 0, 1, 0, 1, 2, 0, 0, 2, 0, 0,\n",
              "        1, 0, 1, 0, 0, 1, 0, 0])"
            ]
          },
          "execution_count": 44,
          "metadata": {},
          "output_type": "execute_result"
        }
      ],
      "source": [
        "y"
      ]
    },
    {
      "cell_type": "markdown",
      "metadata": {
        "id": "T4ZNBM309GKO"
      },
      "source": [
        "# Если вы ничего здесь не понимаете, то вернитесь в конец первой домашки, там все объясняется"
      ]
    },
    {
      "cell_type": "code",
      "execution_count": null,
      "metadata": {
        "id": "TABRdJv79GKP"
      },
      "outputs": [],
      "source": [
        "model = torch.nn.Sequential(torch.nn.Linear(32, 16),\n",
        "                            torch.nn.ReLU(),\n",
        "                            torch.nn.Linear(16, 8),\n",
        "                            torch.nn.ReLU(),\n",
        "                            torch.nn.Linear(8, 3))\n",
        "\n",
        "criterion = torch.nn.CrossEntropyLoss()"
      ]
    },
    {
      "cell_type": "code",
      "execution_count": null,
      "metadata": {
        "id": "QM0GfQDl9GKP",
        "outputId": "3d4f3749-f847-44ea-fe87-2bcbcbbe556c"
      },
      "outputs": [
        {
          "data": {
            "text/plain": [
              "1.1460011005401611"
            ]
          },
          "execution_count": 46,
          "metadata": {},
          "output_type": "execute_result"
        }
      ],
      "source": [
        "with torch.no_grad():\n",
        "\n",
        "    prediction = model(x.float())\n",
        "\n",
        "    loss = criterion(prediction, y)\n",
        "\n",
        "loss.item()"
      ]
    },
    {
      "cell_type": "markdown",
      "metadata": {
        "id": "nrqzA3379GKP"
      },
      "source": [
        "# Боевые датасеты"
      ]
    },
    {
      "cell_type": "code",
      "execution_count": null,
      "metadata": {
        "id": "Ka3JSpf39GKP"
      },
      "outputs": [],
      "source": [
        "class CBOWDataset(Dataset):\n",
        "\n",
        "    def __init__(self,\n",
        "                 corpus,\n",
        "                 word2index,\n",
        "                 window=2,\n",
        "                 unk_token='UNK',\n",
        "                 pad_token='PAD',\n",
        "                 collect_verbose=True):\n",
        "\n",
        "        self.corpus = corpus\n",
        "        self.word2index = word2index\n",
        "        self.index2word = {value: key for key, value in self.word2index.items()}\n",
        "        self.window = window\n",
        "\n",
        "        self.unk_token = unk_token\n",
        "        self.unk_index = self.word2index[self.unk_token]\n",
        "\n",
        "        self.pad_token = pad_token\n",
        "        self.pad_index = len(self.word2index)\n",
        "\n",
        "        self.collect_verbose = collect_verbose\n",
        "\n",
        "        self.data = []\n",
        "\n",
        "        self.collect_data()\n",
        "\n",
        "    def __len__(self):\n",
        "\n",
        "        return len(self.data)\n",
        "\n",
        "    def _split_function(self, tokenized_text):\n",
        "\n",
        "        splits = []\n",
        "\n",
        "        for n in range(len(tokenized_text)):\n",
        "            left_context = tokenized_text[np.maximum(n - self.window, 0):n]\n",
        "            left_context = ([self.pad_index] * (self.window - len(left_context))) + left_context\n",
        "\n",
        "            central_word = tokenized_text[n]\n",
        "\n",
        "            right_context = tokenized_text[n + 1:n + self.window + 1]\n",
        "            right_context = right_context + ([self.pad_index] * (self.window - len(right_context)))\n",
        "\n",
        "            splits.append((left_context + right_context, central_word))\n",
        "\n",
        "        return splits\n",
        "\n",
        "    def indexing(self, tokenized_text):\n",
        "\n",
        "        return [self.word2index[token] if token in self.word2index else self.unk_index for token in tokenized_text]\n",
        "\n",
        "    def collect_data(self):\n",
        "\n",
        "        corpus = tqdm(self.corpus, disable=not self.collect_verbose)\n",
        "\n",
        "        for tokenized_text in corpus:\n",
        "            indexed_text = self.indexing(tokenized_text)\n",
        "            cbow_examples = self._split_function(indexed_text)\n",
        "\n",
        "            self.data.extend(cbow_examples)\n",
        "\n",
        "    def __getitem__(self, idx):\n",
        "\n",
        "        context, central_word = self.data[idx]\n",
        "\n",
        "        context = torch.Tensor(context).long()\n",
        "\n",
        "        return context, central_word"
      ]
    },
    {
      "cell_type": "markdown",
      "metadata": {
        "id": "8jT197nW9GKP"
      },
      "source": [
        "# Мы будем учить модель Skipgram\n",
        "Реализуйте читалку данных"
      ]
    },
    {
      "cell_type": "code",
      "execution_count": null,
      "metadata": {
        "id": "HSrIgu_R9GKP"
      },
      "outputs": [],
      "source": [
        "class SkipgramDataset(Dataset):\n",
        "\n",
        "    def __init__(self,\n",
        "                 corpus,\n",
        "                 word2index,\n",
        "                 window=2,\n",
        "                 unk_token='UNK',\n",
        "                 collect_verbose=True):\n",
        "\n",
        "        self.corpus = corpus\n",
        "        self.word2index = word2index\n",
        "        self.index2word = {value: key for key, value in self.word2index.items()}\n",
        "        self.window = window\n",
        "\n",
        "        self.unk_token = unk_token\n",
        "        self.unk_index = self.word2index[self.unk_token]\n",
        "\n",
        "        self.pad_token = \"PAD\"\n",
        "        self.pad_index = len(self.word2index)\n",
        "\n",
        "        self.collect_verbose = collect_verbose\n",
        "        self.data = []\n",
        "        self.collect_data()\n",
        "\n",
        "    def __len__(self):\n",
        "\n",
        "        return len(self.data)\n",
        "\n",
        "    def _split_function(self, tokenized_text):\n",
        "        tokens = tokenized_text\n",
        "        combinations = []\n",
        "\n",
        "        for i, central_word in enumerate(tokens):\n",
        "            context = tokens[max(0, i - self.window):i] + tokens[i + 1:i + self.window + 1]\n",
        "\n",
        "            if context:\n",
        "                for context_word in context:\n",
        "                    combinations.append((context_word, central_word))\n",
        "\n",
        "        return combinations\n",
        "\n",
        "\n",
        "    def indexing(self, tokenized_text):\n",
        "\n",
        "        return [self.word2index[token] if token in self.word2index else self.unk_index for token in tokenized_text]\n",
        "\n",
        "    def collect_data(self):\n",
        "\n",
        "        corpus = tqdm(self.corpus, disable=not self.collect_verbose)\n",
        "\n",
        "        for tokenized_text in corpus:\n",
        "            indexed_text = self.indexing(tokenized_text)\n",
        "            skipgram_examples = self._split_function(indexed_text)\n",
        "\n",
        "            self.data.extend(skipgram_examples)\n",
        "\n",
        "    def __getitem__(self, idx):\n",
        "\n",
        "        cont, central_word = self.data[idx]\n",
        "        con = torch.tensor(cont)\n",
        "\n",
        "        return con, central_word"
      ]
    },
    {
      "cell_type": "code",
      "execution_count": null,
      "metadata": {
        "id": "u0qDZG4v9GKQ"
      },
      "outputs": [],
      "source": [
        "# можете положить SkipgramDataset в отдельный файлик, например word2vec_utils и относительным импортом достать его\n",
        "#from .word2vec_utils import SkipgramDataset"
      ]
    },
    {
      "cell_type": "code",
      "execution_count": null,
      "metadata": {
        "scrolled": true,
        "id": "TKdZ316E9GKQ",
        "outputId": "e7efeb1c-feba-4631-ff7f-b85e42ac2438"
      },
      "outputs": [
        {
          "name": "stderr",
          "output_type": "stream",
          "text": [
            "100%|███████████████████████████████| 100000/100000 [00:00<00:00, 118189.33it/s]\n"
          ]
        }
      ],
      "source": [
        "dataset = SkipgramDataset(corpus, word2index)"
      ]
    },
    {
      "cell_type": "code",
      "execution_count": null,
      "metadata": {
        "id": "Xh7yQPLE9GKQ"
      },
      "outputs": [],
      "source": [
        "BATCH_SIZE = 512"
      ]
    },
    {
      "cell_type": "code",
      "execution_count": null,
      "metadata": {
        "id": "97wfEUri9GKQ"
      },
      "outputs": [],
      "source": [
        "dataset_loader = DataLoader(dataset, shuffle=True, batch_size=BATCH_SIZE)"
      ]
    },
    {
      "cell_type": "code",
      "execution_count": null,
      "metadata": {
        "id": "plZRAHjR9GKQ"
      },
      "outputs": [],
      "source": [
        "for x, y in dataset_loader:\n",
        "    break"
      ]
    },
    {
      "cell_type": "code",
      "execution_count": null,
      "metadata": {
        "id": "_G-hjk5v9GKQ",
        "outputId": "1fa7b99f-ccb8-4ba3-c47f-95b73ad2672b"
      },
      "outputs": [
        {
          "data": {
            "text/plain": [
              "tensor([1582,   48, 2367,  114, 6253])"
            ]
          },
          "execution_count": 54,
          "metadata": {},
          "output_type": "execute_result"
        }
      ],
      "source": [
        "x[:5]"
      ]
    },
    {
      "cell_type": "code",
      "execution_count": null,
      "metadata": {
        "id": "jAnt4aKu9GKQ",
        "outputId": "299fa61c-de83-4031-b17b-f77487d08393"
      },
      "outputs": [
        {
          "data": {
            "text/plain": [
              "tensor([5332,  926,  304, 4899, 1218])"
            ]
          },
          "execution_count": 55,
          "metadata": {},
          "output_type": "execute_result"
        }
      ],
      "source": [
        "y[:5]"
      ]
    },
    {
      "cell_type": "code",
      "execution_count": null,
      "metadata": {
        "id": "W1zXL29g9GKR",
        "outputId": "898fb301-b6b1-4530-bf61-f7c04b2f685e"
      },
      "outputs": [
        {
          "data": {
            "text/plain": [
              "(torch.Size([512]), torch.Size([512]))"
            ]
          },
          "execution_count": 56,
          "metadata": {},
          "output_type": "execute_result"
        }
      ],
      "source": [
        "x.shape, y.shape"
      ]
    },
    {
      "cell_type": "code",
      "execution_count": null,
      "metadata": {
        "id": "bPtLQSyx9GKR"
      },
      "outputs": [],
      "source": [
        "class CBOW(torch.nn.Module):\n",
        "\n",
        "    def __init__(self, vocab_size, embedding_dim, pad_index):\n",
        "\n",
        "        super().__init__()\n",
        "\n",
        "        if pad_index > 0:\n",
        "            vocab_size += 1\n",
        "\n",
        "        self.in_embedding = torch.nn.Embedding(num_embeddings=vocab_size,\n",
        "                                               embedding_dim=embedding_dim,\n",
        "                                               padding_idx=pad_index)\n",
        "\n",
        "        self.out_embedding = torch.nn.Linear(in_features=embedding_dim,\n",
        "                                             out_features=vocab_size, bias=False)\n",
        "\n",
        "    def forward(self, x):\n",
        "\n",
        "        x = self.in_embedding(x).sum(dim=-2)\n",
        "        x = self.out_embedding(x)\n",
        "\n",
        "        return x"
      ]
    },
    {
      "cell_type": "markdown",
      "metadata": {
        "id": "hn8gyvEA9GKR"
      },
      "source": [
        "# Мы будем учить модель Skipgram\n",
        "Реализуйте ее"
      ]
    },
    {
      "cell_type": "code",
      "execution_count": null,
      "metadata": {
        "id": "IxYAwkvB9GKR"
      },
      "outputs": [],
      "source": [
        "class SkipGram(torch.nn.Module):\n",
        "    def __init__(self, vocab_size, embedding_dim):\n",
        "\n",
        "        super().__init__()\n",
        "\n",
        "\n",
        "        self.in_embedding = torch.nn.Embedding(num_embeddings=vocab_size,\n",
        "                                               embedding_dim=embedding_dim)\n",
        "\n",
        "        self.out_embedding = torch.nn.Linear(in_features=embedding_dim,\n",
        "                                             out_features=vocab_size, bias=False)\n",
        "\n",
        "    def forward(self, x):\n",
        "\n",
        "        x = self.in_embedding(x)\n",
        "        x = self.out_embedding(x)\n",
        "\n",
        "        return x"
      ]
    },
    {
      "cell_type": "code",
      "execution_count": null,
      "metadata": {
        "id": "yFfTXZ-c9GKR"
      },
      "outputs": [],
      "source": [
        "# размерность эмбеддинга\n",
        "# маленькая, чтобы мы могли недолго поучить ворд2век и увидеть результаты\n",
        "EMBEDDING_DIM = 30"
      ]
    },
    {
      "cell_type": "code",
      "execution_count": null,
      "metadata": {
        "id": "ELh2NXKm9GKR"
      },
      "outputs": [],
      "source": [
        "model = SkipGram(vocab_size=len(word2index), embedding_dim=EMBEDDING_DIM)"
      ]
    },
    {
      "cell_type": "code",
      "execution_count": null,
      "metadata": {
        "id": "VlQK-3sO9GKR",
        "outputId": "68c7432b-ab9d-4ab9-df27-924b7e61a611"
      },
      "outputs": [
        {
          "data": {
            "text/plain": [
              "torch.Size([512, 13076])"
            ]
          },
          "execution_count": 61,
          "metadata": {},
          "output_type": "execute_result"
        }
      ],
      "source": [
        "with torch.no_grad():\n",
        "    pred = model(x)\n",
        "\n",
        "pred.shape"
      ]
    },
    {
      "cell_type": "code",
      "execution_count": null,
      "metadata": {
        "id": "q2QmFaNx9GKR"
      },
      "outputs": [],
      "source": [
        "optimizer = torch.optim.Adam(params=model.parameters(), lr=0.001)\n",
        "\n",
        "# aka loss function\n",
        "criterion = torch.nn.CrossEntropyLoss()"
      ]
    },
    {
      "cell_type": "markdown",
      "metadata": {
        "id": "zF0kL8oF9GKS"
      },
      "source": [
        "# Допишите обучалку"
      ]
    },
    {
      "cell_type": "code",
      "execution_count": null,
      "metadata": {
        "id": "k1YijXhO9GKS",
        "outputId": "05b6682e-e981-449b-da19-db3fa7efc5d1"
      },
      "outputs": [
        {
          "name": "stderr",
          "output_type": "stream",
          "text": [
            "Epoch 1: 100%|██████████| 2983124/2983124 [03:12<00:00, 15472.96it/s, loss=7.03]\n",
            "Epoch 2: 100%|██████████| 2983124/2983124 [03:18<00:00, 15005.09it/s, loss=6.88]\n",
            "Epoch 3: 100%|██████████| 2983124/2983124 [03:23<00:00, 14647.74it/s, loss=6.82]\n",
            "Epoch 4: 100%|██████████| 2983124/2983124 [03:21<00:00, 14823.73it/s, loss=6.76]\n",
            "Epoch 5: 100%|██████████| 2983124/2983124 [03:06<00:00, 15966.31it/s, loss=6.75]\n",
            "Epoch 6: 100%|██████████| 2983124/2983124 [03:40<00:00, 13541.16it/s, loss=6.72]\n",
            "Epoch 7: 100%|██████████| 2983124/2983124 [03:47<00:00, 13133.70it/s, loss=6.69]\n",
            "Epoch 8: 100%|██████████| 2983124/2983124 [03:49<00:00, 12991.54it/s, loss=6.67]\n",
            "Epoch 9: 100%|██████████| 2983124/2983124 [03:54<00:00, 12708.05it/s, loss=6.66]\n",
            "Epoch 10: 100%|█████████| 2983124/2983124 [03:46<00:00, 13146.96it/s, loss=6.65]\n"
          ]
        }
      ],
      "source": [
        "import numpy as np\n",
        "from tqdm import tqdm\n",
        "\n",
        "losses = []\n",
        "epochs = 10\n",
        "\n",
        "for n_epoch in range(epochs):\n",
        "\n",
        "    try:\n",
        "\n",
        "        progress_bar = tqdm(total=len(dataset_loader.dataset), desc='Epoch {}'.format(n_epoch + 1))\n",
        "\n",
        "        for x, y in dataset_loader:\n",
        "            output = model(x)\n",
        "            loss = criterion(output, y)\n",
        "\n",
        "            optimizer.zero_grad()\n",
        "            loss.backward()\n",
        "            optimizer.step()\n",
        "\n",
        "            losses.append(loss.item())\n",
        "\n",
        "            progress_bar.set_postfix(loss=np.mean(losses[-100:]))\n",
        "\n",
        "            progress_bar.update(x.shape[0])\n",
        "\n",
        "        progress_bar.close()\n",
        "\n",
        "    except KeyboardInterrupt:\n",
        "\n",
        "        progress_bar.close()\n",
        "        break\n"
      ]
    },
    {
      "cell_type": "code",
      "execution_count": null,
      "metadata": {
        "id": "3Vv_75m-9GKS",
        "outputId": "184d9f80-26f9-4d3c-aa37-13ad276c2c18"
      },
      "outputs": [
        {
          "data": {
            "text/plain": [
              "[<matplotlib.lines.Line2D at 0x7fd9d125fd60>]"
            ]
          },
          "execution_count": 79,
          "metadata": {},
          "output_type": "execute_result"
        },
        {
          "data": {
            "image/png": "[encoded data removed]",
            "text/plain": [
              "<Figure size 1500x1500 with 1 Axes>"
            ]
          },
          "metadata": {},
          "output_type": "display_data"
        }
      ],
      "source": [
        "plt.title('SkipGram Training Process')\n",
        "plt.xlabel('Itearations')\n",
        "plt.ylabel('Loss')\n",
        "plt.grid()\n",
        "plt.plot(losses)"
      ]
    },
    {
      "cell_type": "code",
      "execution_count": null,
      "metadata": {
        "id": "95tZBDTY9GKS"
      },
      "outputs": [],
      "source": [
        "# проверка, что хоть что-то выучилось\n",
        "assert np.mean(losses[-1000:]) < 7.5"
      ]
    },
    {
      "cell_type": "code",
      "execution_count": null,
      "metadata": {
        "id": "VaAqmTOf9GKS"
      },
      "outputs": [],
      "source": [
        "embedding_matrix = model.in_embedding.weight.detach()"
      ]
    },
    {
      "cell_type": "code",
      "execution_count": null,
      "metadata": {
        "id": "9K9He37g9GKS"
      },
      "outputs": [],
      "source": [
        "def cos_sim(embedding_matrix, token2id, word1, word2):\n",
        "\n",
        "    i1 = token2id[word1]\n",
        "    i2 = token2id[word2]\n",
        "\n",
        "    v1, v2 = embedding_matrix[i1], embedding_matrix[i2]\n",
        "\n",
        "    v1_n = v1.div(v1.norm(keepdim=True))\n",
        "    v2_n = v2.div(v2.norm(keepdim=True))\n",
        "\n",
        "    similarity = torch.dot(v1_n, v2_n).item()\n",
        "\n",
        "    return similarity"
      ]
    },
    {
      "cell_type": "markdown",
      "metadata": {
        "id": "oSIPye009GKS"
      },
      "source": [
        "# Косинусная близость\n",
        "От 0 до 1, где 0 - вектора абсолютно разные, где 1 - идентичные."
      ]
    },
    {
      "cell_type": "code",
      "execution_count": null,
      "metadata": {
        "id": "d54XJxvg9GKT",
        "outputId": "749c9884-b14a-4d6d-ccae-292049c6e7c6"
      },
      "outputs": [
        {
          "data": {
            "text/plain": [
              "0.6950123310089111"
            ]
          },
          "execution_count": 83,
          "metadata": {},
          "output_type": "execute_result"
        }
      ],
      "source": [
        "cos_sim(embedding_matrix, word2index, 'день', 'месяц')"
      ]
    },
    {
      "cell_type": "code",
      "execution_count": null,
      "metadata": {
        "id": "Nbyy8E999GKT",
        "outputId": "dac8a017-1b91-4813-c94f-b16199b17de3"
      },
      "outputs": [
        {
          "data": {
            "text/plain": [
              "0.5204434394836426"
            ]
          },
          "execution_count": 84,
          "metadata": {},
          "output_type": "execute_result"
        }
      ],
      "source": [
        "cos_sim(embedding_matrix, word2index, 'минута', 'месяц')"
      ]
    },
    {
      "cell_type": "code",
      "execution_count": null,
      "metadata": {
        "id": "Fay2nZ5r9GKT",
        "outputId": "44f0e27a-1b8d-432c-8640-3b5debcf472d"
      },
      "outputs": [
        {
          "data": {
            "text/plain": [
              "0.6031600832939148"
            ]
          },
          "execution_count": 85,
          "metadata": {},
          "output_type": "execute_result"
        }
      ],
      "source": [
        "cos_sim(embedding_matrix, word2index, 'сотрудник', 'сотрудница')"
      ]
    },
    {
      "cell_type": "code",
      "execution_count": null,
      "metadata": {
        "id": "YYOXeqF09GKT",
        "outputId": "24d26d7e-be94-42bd-efc8-7985e2c6e7a4"
      },
      "outputs": [
        {
          "data": {
            "text/plain": [
              "0.2356187403202057"
            ]
          },
          "execution_count": 86,
          "metadata": {},
          "output_type": "execute_result"
        }
      ],
      "source": [
        "cos_sim(embedding_matrix, word2index, 'вклад', 'перевод')"
      ]
    },
    {
      "cell_type": "markdown",
      "metadata": {
        "id": "ttWdjYVj9GKT"
      },
      "source": [
        "Видим неплохие цифры для косинусного расстояния. Но, кажется, можно сделать лучше. Лучшие цифры можно получить если, например, построить такую же сеть, только с большим размером окна (т.е предсказывать слово по 3 предыдущим). Также огромную роль играет размер выборки. У нас было всего 100 тыс items, что для качественного решения такой задачи мало."
      ]
    },
    {
      "cell_type": "code",
      "execution_count": null,
      "metadata": {
        "id": "NDGb65ca9GKT",
        "outputId": "742106fb-1b35-4ab3-ce1c-e00e3d9eee36"
      },
      "outputs": [
        {
          "data": {
            "text/plain": [
              "'Косинусная близость слова \"день\" к случайному выбраному слову \"ноут\" равна 0.192'"
            ]
          },
          "execution_count": 89,
          "metadata": {},
          "output_type": "execute_result"
        }
      ],
      "source": [
        "random_word = random.choice(list(word2index.keys()))\n",
        "sim = cos_sim(embedding_matrix, word2index, 'день', random_word)\n",
        "'Косинусная близость слова \"день\" к случайному выбраному слову \"{}\" равна {:.3f}'.format(random_word, sim)"
      ]
    },
    {
      "cell_type": "code",
      "execution_count": null,
      "metadata": {
        "id": "C6i1UoJd9GKT"
      },
      "outputs": [],
      "source": [
        "freq = {}\n",
        "\n",
        "for text in corpus:\n",
        "    for token in text:\n",
        "        if token in freq:\n",
        "            freq[token] += 1\n",
        "        else:\n",
        "            freq[token] = 1"
      ]
    },
    {
      "cell_type": "code",
      "execution_count": null,
      "metadata": {
        "id": "ZJJTbyyt9GKT"
      },
      "outputs": [],
      "source": [
        "sorted_freq = [(k, freq[k]) for k in sorted(freq, key=freq.get, reverse=True)]\n",
        "top_sorted_freq = sorted_freq[0:200]"
      ]
    },
    {
      "cell_type": "code",
      "execution_count": null,
      "metadata": {
        "id": "Q0awv-Eb9GKT",
        "outputId": "8b00aee1-80e3-4b5e-848a-4f26f43b9cc2"
      },
      "outputs": [
        {
          "name": "stdout",
          "output_type": "stream",
          "text": [
            "[t-SNE] Computing 91 nearest neighbors...\n",
            "[t-SNE] Indexed 13076 samples in 0.000s...\n",
            "[t-SNE] Computed neighbors for 13076 samples in 0.372s...\n",
            "[t-SNE] Computed conditional probabilities for sample 1000 / 13076\n",
            "[t-SNE] Computed conditional probabilities for sample 2000 / 13076\n",
            "[t-SNE] Computed conditional probabilities for sample 3000 / 13076\n",
            "[t-SNE] Computed conditional probabilities for sample 4000 / 13076\n",
            "[t-SNE] Computed conditional probabilities for sample 5000 / 13076\n",
            "[t-SNE] Computed conditional probabilities for sample 6000 / 13076\n",
            "[t-SNE] Computed conditional probabilities for sample 7000 / 13076\n",
            "[t-SNE] Computed conditional probabilities for sample 8000 / 13076\n",
            "[t-SNE] Computed conditional probabilities for sample 9000 / 13076\n",
            "[t-SNE] Computed conditional probabilities for sample 10000 / 13076\n",
            "[t-SNE] Computed conditional probabilities for sample 11000 / 13076\n",
            "[t-SNE] Computed conditional probabilities for sample 12000 / 13076\n",
            "[t-SNE] Computed conditional probabilities for sample 13000 / 13076\n",
            "[t-SNE] Computed conditional probabilities for sample 13076 / 13076\n",
            "[t-SNE] Mean sigma: 1.429540\n",
            "[t-SNE] Computed conditional probabilities in 0.218s\n",
            "[t-SNE] Iteration 50: error = 97.7977676, gradient norm = 0.0043112 (50 iterations in 3.169s)\n",
            "[t-SNE] Iteration 100: error = 97.7917633, gradient norm = 0.0025379 (50 iterations in 3.040s)\n",
            "[t-SNE] Iteration 150: error = 97.7922668, gradient norm = 0.0022090 (50 iterations in 2.945s)\n",
            "[t-SNE] Iteration 200: error = 97.8099213, gradient norm = 0.0072114 (50 iterations in 3.147s)\n",
            "[t-SNE] Iteration 250: error = 97.7922668, gradient norm = 0.0030642 (50 iterations in 2.817s)\n",
            "[t-SNE] KL divergence after 250 iterations with early exaggeration: 97.792267\n",
            "[t-SNE] Iteration 300: error = 5.0562296, gradient norm = 0.0064444 (50 iterations in 2.093s)\n",
            "[t-SNE] Iteration 350: error = 4.8839674, gradient norm = 0.0043215 (50 iterations in 1.329s)\n",
            "[t-SNE] Iteration 400: error = 4.7989473, gradient norm = 0.0043641 (50 iterations in 1.326s)\n",
            "[t-SNE] Iteration 450: error = 4.7404695, gradient norm = 0.0045101 (50 iterations in 1.295s)\n",
            "[t-SNE] Iteration 500: error = 4.6949244, gradient norm = 0.0044524 (50 iterations in 1.289s)\n",
            "[t-SNE] Iteration 550: error = 4.6583495, gradient norm = 0.0045213 (50 iterations in 1.279s)\n",
            "[t-SNE] Iteration 600: error = 4.6279764, gradient norm = 0.0044337 (50 iterations in 1.278s)\n",
            "[t-SNE] Iteration 650: error = 4.6024313, gradient norm = 0.0042776 (50 iterations in 1.281s)\n",
            "[t-SNE] Iteration 700: error = 4.5813222, gradient norm = 0.0041769 (50 iterations in 1.282s)\n",
            "[t-SNE] Iteration 750: error = 4.5632262, gradient norm = 0.0039854 (50 iterations in 1.370s)\n",
            "[t-SNE] Iteration 800: error = 4.5478210, gradient norm = 0.0038509 (50 iterations in 1.285s)\n",
            "[t-SNE] Iteration 850: error = 4.5349321, gradient norm = 0.0035210 (50 iterations in 1.285s)\n",
            "[t-SNE] Iteration 900: error = 4.5241127, gradient norm = 0.0033293 (50 iterations in 1.280s)\n",
            "[t-SNE] Iteration 950: error = 4.5146441, gradient norm = 0.0031814 (50 iterations in 1.302s)\n",
            "[t-SNE] Iteration 1000: error = 4.5063519, gradient norm = 0.0029803 (50 iterations in 1.287s)\n",
            "[t-SNE] KL divergence after 1000 iterations: 4.506352\n"
          ]
        }
      ],
      "source": [
        "tsne = TSNE(n_components=2, init='pca', random_state=42, verbose=2)\n",
        "reduced = tsne.fit_transform(embedding_matrix)"
      ]
    },
    {
      "cell_type": "code",
      "execution_count": null,
      "metadata": {
        "id": "i3vFeX7Q9GKU"
      },
      "outputs": [],
      "source": [
        "top_words = [a for a,_ in top_sorted_freq]"
      ]
    },
    {
      "cell_type": "code",
      "execution_count": null,
      "metadata": {
        "id": "tf--F_qx9GKU"
      },
      "outputs": [],
      "source": [
        "inds = [word2index[word] for word in top_words]\n",
        "x_coords = [coords[0] for coords in reduced[inds]]\n",
        "y_coords = [coords[1] for coords in reduced[inds]]"
      ]
    },
    {
      "cell_type": "code",
      "execution_count": null,
      "metadata": {
        "id": "2ooU4hmg9GKU",
        "outputId": "df648620-c6ea-48dc-d84d-f459badbe36b"
      },
      "outputs": [
        {
          "data": {
            "image/png": "[encoded data removed]",
            "text/plain": [
              "<Figure size 1500x1500 with 1 Axes>"
            ]
          },
          "metadata": {},
          "output_type": "display_data"
        }
      ],
      "source": [
        "for (x, y, word) in zip(x_coords, y_coords, top_words):\n",
        "    plt.scatter(x, y, marker='.', color='blue')\n",
        "    plt.text(x+0.01, y+0.01, word, fontsize=9)\n",
        "plt.show()"
      ]
    },
    {
      "cell_type": "code",
      "execution_count": null,
      "metadata": {
        "id": "MKOjR4jQ9GKU",
        "outputId": "4e0c9fa7-ec1e-4784-8d9c-e158b55eeb97"
      },
      "outputs": [
        {
          "name": "stderr",
          "output_type": "stream",
          "text": [
            "Epoch 1: 100%|██████████| 2983124/2983124 [02:44<00:00, 18187.53it/s, loss=7.08]\n",
            "Epoch 2: 100%|██████████| 2983124/2983124 [02:45<00:00, 18047.55it/s, loss=6.94]\n",
            "Epoch 3: 100%|██████████| 2983124/2983124 [02:47<00:00, 17835.77it/s, loss=6.89]\n",
            "Epoch 4: 100%|██████████| 2983124/2983124 [02:48<00:00, 17698.90it/s, loss=6.84]\n",
            "Epoch 5: 100%|██████████| 2983124/2983124 [02:54<00:00, 17132.43it/s, loss=6.78]\n",
            "Epoch 6: 100%|██████████| 2983124/2983124 [03:02<00:00, 16351.36it/s, loss=6.77]\n",
            "Epoch 7: 100%|██████████| 2983124/2983124 [03:06<00:00, 16028.36it/s, loss=6.75]\n",
            "Epoch 8: 100%|██████████| 2983124/2983124 [03:12<00:00, 15533.45it/s, loss=6.75]\n",
            "Epoch 9: 100%|██████████| 2983124/2983124 [03:16<00:00, 15210.13it/s, loss=6.73]\n",
            "Epoch 10: 100%|█████████| 2983124/2983124 [03:21<00:00, 14774.10it/s, loss=6.71]\n"
          ]
        }
      ],
      "source": [
        "criterion = torch.nn.CrossEntropyLoss()\n",
        "EMBEDDING_DIM = 20\n",
        "model = SkipGram(vocab_size=len(word2index), embedding_dim=EMBEDDING_DIM)\n",
        "optimizer = torch.optim.Adam(params=model.parameters(), lr=0.001)\n",
        "\n",
        "losses = []\n",
        "epochs = 10\n",
        "\n",
        "for n_epoch in range(epochs):\n",
        "\n",
        "    try:\n",
        "\n",
        "        progress_bar = tqdm(total=len(dataset_loader.dataset), desc='Epoch {}'.format(n_epoch + 1))\n",
        "\n",
        "        for x, y in dataset_loader:\n",
        "            output = model(x)\n",
        "            loss = criterion(output, y)\n",
        "\n",
        "            optimizer.zero_grad()\n",
        "            loss.backward()\n",
        "            optimizer.step()\n",
        "\n",
        "            losses.append(loss.item())\n",
        "\n",
        "            progress_bar.set_postfix(loss=np.mean(losses[-100:]))\n",
        "\n",
        "            progress_bar.update(x.shape[0])\n",
        "\n",
        "        progress_bar.close()\n",
        "\n",
        "    except KeyboardInterrupt:\n",
        "\n",
        "        progress_bar.close()\n",
        "        break"
      ]
    },
    {
      "cell_type": "code",
      "execution_count": null,
      "metadata": {
        "id": "CEgT6ozV9GKU"
      },
      "outputs": [],
      "source": [
        "embedding_matrix = model.in_embedding.weight.detach()"
      ]
    },
    {
      "cell_type": "code",
      "execution_count": null,
      "metadata": {
        "id": "vl3oXSZR9GKU",
        "outputId": "16517065-2767-4433-db26-c4114e8e410b"
      },
      "outputs": [
        {
          "data": {
            "text/plain": [
              "0.7127798795700073"
            ]
          },
          "execution_count": 100,
          "metadata": {},
          "output_type": "execute_result"
        }
      ],
      "source": [
        "cos_sim(embedding_matrix, word2index, 'день', 'месяц')"
      ]
    },
    {
      "cell_type": "code",
      "execution_count": null,
      "metadata": {
        "id": "C3x8QAHT9GKV",
        "outputId": "bff1c93f-4e4e-44e1-b080-ab5f0679cf47"
      },
      "outputs": [
        {
          "data": {
            "text/plain": [
              "0.523453950881958"
            ]
          },
          "execution_count": 101,
          "metadata": {},
          "output_type": "execute_result"
        }
      ],
      "source": [
        "cos_sim(embedding_matrix, word2index, 'минута', 'месяц')"
      ]
    },
    {
      "cell_type": "code",
      "execution_count": null,
      "metadata": {
        "id": "JkJ-dscD9GKV",
        "outputId": "0a8a0e69-feb2-4404-ad33-e8872682d36d"
      },
      "outputs": [
        {
          "data": {
            "text/plain": [
              "0.5966144800186157"
            ]
          },
          "execution_count": 102,
          "metadata": {},
          "output_type": "execute_result"
        }
      ],
      "source": [
        "cos_sim(embedding_matrix, word2index, 'сотрудник', 'сотрудница')"
      ]
    },
    {
      "cell_type": "code",
      "execution_count": null,
      "metadata": {
        "id": "Erxct5Kg9GKV",
        "outputId": "801c5646-6d9e-4a7d-bd1a-ee9dc4d5b21a"
      },
      "outputs": [
        {
          "data": {
            "text/plain": [
              "0.41486215591430664"
            ]
          },
          "execution_count": 103,
          "metadata": {},
          "output_type": "execute_result"
        }
      ],
      "source": [
        "cos_sim(embedding_matrix, word2index, 'вклад', 'перевод')"
      ]
    },
    {
      "cell_type": "code",
      "execution_count": null,
      "metadata": {
        "id": "1yqg1-819GKV",
        "outputId": "4a3df8cd-f2f1-40f0-cd63-728bf0308eac"
      },
      "outputs": [
        {
          "data": {
            "text/plain": [
              "0.9110742211341858"
            ]
          },
          "execution_count": 134,
          "metadata": {},
          "output_type": "execute_result"
        }
      ],
      "source": [
        "cos_sim(embedding_matrix, word2index, 'офис', 'отделение')"
      ]
    },
    {
      "cell_type": "code",
      "execution_count": null,
      "metadata": {
        "id": "ALWnUv4F9GKV",
        "outputId": "61b08e88-3de5-47c2-929e-37d9f4f5f683"
      },
      "outputs": [
        {
          "data": {
            "text/plain": [
              "0.7529120445251465"
            ]
          },
          "execution_count": 136,
          "metadata": {},
          "output_type": "execute_result"
        }
      ],
      "source": [
        "cos_sim(embedding_matrix, word2index, 'сайт', 'онлайн')"
      ]
    },
    {
      "cell_type": "markdown",
      "metadata": {
        "id": "RuLulltC9GKV"
      },
      "source": [
        "## Комментарии и дополнения"
      ]
    },
    {
      "cell_type": "markdown",
      "metadata": {
        "id": "zy6RfV-m9GKV"
      },
      "source": [
        "Удалось получить хорошие и логичные оценки для близости похожих слов (например, офис - отделение 0.91 или сайт - онлайн 0.75).\n",
        "Также я провела дополнительные экперименты с размером вектора признаков.\n",
        "Было две модели с размерностью 20 и 30 соответственно. Каждая обучалась 10 эпох. Оказалось, что модель с размерностью 30 обучилась по метрике cross-entopy loss чуть лучше, чем модель с 20. Но при этом косинусное расстояние для модели с 20 лучше отображает смысл для некоторых слов, а для некоторых слов принципиально по-другому.\n",
        "\n",
        "\n",
        "При попытке сравнения результата с корпусом для оценки качества выяснилось, что набор слов там сильно отличается от набора слов в нашем корпусе. Кажется,\n",
        "что такое сравнение бдует не очень релевантным, поскольку переcечение будет не очень высоким. Я проверила несколько популярных слов из нашей выборки и оказалось, что их просто нет в общем корпусе, поскольку наш корпус сильно связан с банковской сферой и в нем мало примеров предложений из повседневной жизни."
      ]
    },
    {
      "cell_type": "code",
      "execution_count": null,
      "metadata": {
        "id": "hDet1mP_9GKV"
      },
      "outputs": [],
      "source": [
        "import pandas as pd\n",
        "df = pd.read_csv('ru_simlex965_tagged.tsv', sep = '\\t')"
      ]
    },
    {
      "cell_type": "code",
      "execution_count": null,
      "metadata": {
        "id": "TJGbnt9w9GKW"
      },
      "outputs": [],
      "source": [
        "df['word1'] = df['# Word1'].apply(lambda x: x.split(\"_\")[0])\n",
        "df['word2'] = df['Word2'].apply(lambda x: x.split(\"_\")[0])"
      ]
    },
    {
      "cell_type": "code",
      "execution_count": null,
      "metadata": {
        "id": "LVL5eWwW9GKW",
        "outputId": "14d3c349-aa7e-4a3e-b426-caeaf983789a"
      },
      "outputs": [
        {
          "data": {
            "text/html": [
              "<div>\n",
              "<style scoped>\n",
              "    .dataframe tbody tr th:only-of-type {\n",
              "        vertical-align: middle;\n",
              "    }\n",
              "\n",
              "    .dataframe tbody tr th {\n",
              "        vertical-align: top;\n",
              "    }\n",
              "\n",
              "    .dataframe thead th {\n",
              "        text-align: right;\n",
              "    }\n",
              "</style>\n",
              "<table border=\"1\" class=\"dataframe\">\n",
              "  <thead>\n",
              "    <tr style=\"text-align: right;\">\n",
              "      <th></th>\n",
              "      <th># Word1</th>\n",
              "      <th>Word2</th>\n",
              "      <th>Average Score</th>\n",
              "      <th>word1</th>\n",
              "      <th>word2</th>\n",
              "    </tr>\n",
              "  </thead>\n",
              "  <tbody>\n",
              "    <tr>\n",
              "      <th>0</th>\n",
              "      <td>авария_NOUN</td>\n",
              "      <td>бедствие_NOUN</td>\n",
              "      <td>6.15</td>\n",
              "      <td>авария</td>\n",
              "      <td>бедствие</td>\n",
              "    </tr>\n",
              "    <tr>\n",
              "      <th>1</th>\n",
              "      <td>август_NOUN</td>\n",
              "      <td>месяц_NOUN</td>\n",
              "      <td>2.85</td>\n",
              "      <td>август</td>\n",
              "      <td>месяц</td>\n",
              "    </tr>\n",
              "    <tr>\n",
              "      <th>2</th>\n",
              "      <td>авиация_NOUN</td>\n",
              "      <td>полет_NOUN</td>\n",
              "      <td>6.77</td>\n",
              "      <td>авиация</td>\n",
              "      <td>полет</td>\n",
              "    </tr>\n",
              "    <tr>\n",
              "      <th>3</th>\n",
              "      <td>автомобиль_NOUN</td>\n",
              "      <td>гудок_NOUN</td>\n",
              "      <td>1.85</td>\n",
              "      <td>автомобиль</td>\n",
              "      <td>гудок</td>\n",
              "    </tr>\n",
              "    <tr>\n",
              "      <th>4</th>\n",
              "      <td>автомобиль_NOUN</td>\n",
              "      <td>автострада_NOUN</td>\n",
              "      <td>1.23</td>\n",
              "      <td>автомобиль</td>\n",
              "      <td>автострада</td>\n",
              "    </tr>\n",
              "  </tbody>\n",
              "</table>\n",
              "</div>"
            ],
            "text/plain": [
              "           # Word1            Word2  Average Score       word1       word2\n",
              "0      авария_NOUN    бедствие_NOUN           6.15      авария    бедствие\n",
              "1      август_NOUN       месяц_NOUN           2.85      август       месяц\n",
              "2     авиация_NOUN       полет_NOUN           6.77     авиация       полет\n",
              "3  автомобиль_NOUN       гудок_NOUN           1.85  автомобиль       гудок\n",
              "4  автомобиль_NOUN  автострада_NOUN           1.23  автомобиль  автострада"
            ]
          },
          "execution_count": 126,
          "metadata": {},
          "output_type": "execute_result"
        }
      ],
      "source": [
        "df.head()"
      ]
    },
    {
      "cell_type": "code",
      "execution_count": null,
      "metadata": {
        "id": "jqvWBTSp9GKW",
        "outputId": "dcb70683-8df3-45df-f393-799d646e81bc"
      },
      "outputs": [
        {
          "data": {
            "text/plain": [
              "['банк', 'карта', 'UNK', 'кредит', 'это', 'деньга', 'день', 'мой', 'сотрудник']"
            ]
          },
          "execution_count": 127,
          "metadata": {},
          "output_type": "execute_result"
        }
      ],
      "source": [
        "top_words[1:10]"
      ]
    },
    {
      "cell_type": "code",
      "execution_count": null,
      "metadata": {
        "id": "uqZujzIa9GKW",
        "outputId": "333fbc0a-0af7-44c0-9203-5d80df94f2e3"
      },
      "outputs": [
        {
          "data": {
            "text/plain": [
              "False"
            ]
          },
          "execution_count": 128,
          "metadata": {},
          "output_type": "execute_result"
        }
      ],
      "source": [
        "\"банк\" in df.word1.unique()"
      ]
    },
    {
      "cell_type": "code",
      "execution_count": null,
      "metadata": {
        "id": "pCLteWaT9GKW",
        "outputId": "a0ab58a0-6a0c-4a22-e619-d49b7090212b"
      },
      "outputs": [
        {
          "data": {
            "text/plain": [
              "False"
            ]
          },
          "execution_count": 129,
          "metadata": {},
          "output_type": "execute_result"
        }
      ],
      "source": [
        "\"кредит\" in df.word1.unique()"
      ]
    },
    {
      "cell_type": "code",
      "execution_count": null,
      "metadata": {
        "id": "Zi72OHbc9GKW",
        "outputId": "8c469f6d-f6fc-4a41-d7a3-f29e84f7a708"
      },
      "outputs": [
        {
          "data": {
            "text/plain": [
              "False"
            ]
          },
          "execution_count": 130,
          "metadata": {},
          "output_type": "execute_result"
        }
      ],
      "source": [
        "\"мой\" in df.word1.unique()"
      ]
    },
    {
      "cell_type": "code",
      "execution_count": null,
      "metadata": {
        "id": "fy6V7hNa9GKW",
        "outputId": "b431455f-c1de-40a1-8eb5-96b0ebca6b4e"
      },
      "outputs": [
        {
          "data": {
            "text/plain": [
              "False"
            ]
          },
          "execution_count": 131,
          "metadata": {},
          "output_type": "execute_result"
        }
      ],
      "source": [
        "\"это\" in df.word1.unique()"
      ]
    },
    {
      "cell_type": "code",
      "execution_count": null,
      "metadata": {
        "id": "VlRtPAes9GKW",
        "outputId": "2f722097-277a-46c8-da63-c601cb263ef4"
      },
      "outputs": [
        {
          "data": {
            "text/plain": [
              "False"
            ]
          },
          "execution_count": 132,
          "metadata": {},
          "output_type": "execute_result"
        }
      ],
      "source": [
        "\"сотрудник\" in df.word1.unique()"
      ]
    },
    {
      "cell_type": "markdown",
      "metadata": {
        "collapsed": false,
        "jupyter": {
          "outputs_hidden": false
        },
        "id": "jBWOZmia9GKX"
      },
      "source": [
        "# Оценка\n",
        "1. Вы добрались сюда и все работает, значит уже получили 7 баллов.\n",
        "2. 8 баллов - Взяли корпус для оценка качества эмбеддингов [здесь](https://rusvectores.org/static/testsets/ru_simlex965_tagged.tsv). Описание к нему [здесь](https://arxiv.org/pdf/1801.06407.pdf). Его английская версия для понимания, того что же это такое [тут](https://fh295.github.io/simlex.html). Если в кратце - он похож а гугл аналогии, просто иначе составлен. Определили качество своих эмбеддингов. Как качество измерить? Можете все значения отнормировать (привести к 1) и затем считать MSE между тем что у вас и что в оригинале.\n",
        "3. 9 баллов - Поставили эксперименты, поменяли любые параметры, хоть корпус увеличили или как то почистили. Показали метрики до и после. После должно быть лучше, иначе это все еще 8 баллов.\n",
        "4. 10 баллов - удивили своим подходом (или просто удивили) пока делили на 9 баллов"
      ]
    }
  ],
  "metadata": {
    "kernelspec": {
      "display_name": "Python 3 (ipykernel)",
      "language": "python",
      "name": "python3"
    },
    "language_info": {
      "codemirror_mode": {
        "name": "ipython",
        "version": 3
      },
      "file_extension": ".py",
      "mimetype": "text/x-python",
      "name": "python",
      "nbconvert_exporter": "python",
      "pygments_lexer": "ipython3",
      "version": "3.9.18"
    },
    "colab": {
      "provenance": [],
      "include_colab_link": true
    }
  },
  "nbformat": 4,
  "nbformat_minor": 0
}